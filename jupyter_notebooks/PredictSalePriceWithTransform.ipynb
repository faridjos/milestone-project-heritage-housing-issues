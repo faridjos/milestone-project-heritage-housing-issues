{
  "cells": [
    {
      "cell_type": "markdown",
      "metadata": {
        "id": "0aStgWSO0E0E"
      },
      "source": [
        "# Regression"
      ]
    },
    {
      "cell_type": "markdown",
      "metadata": {
        "id": "1eLEkw5O0ECa"
      },
      "source": [
        "## Objectives\n",
        "\n",
        "*   Investigate if transforming the numerical features improves the ML model\n",
        "\n",
        "## Inputs\n",
        "\n",
        "* outputs/datasets/collection/HousePricesRecords.csv\n",
        "* Feature datacleaning/engineering pipeline from the FeatureEngineering notebook \n",
        "\n",
        "## Outputs\n",
        "\n",
        "* No output\n",
        "\n",
        "## Conclusion\n",
        "\n",
        "*   There is no difference in the performance of the ML model if one includes transformation of numerical features"
      ]
    },
    {
      "cell_type": "markdown",
      "metadata": {
        "id": "9uWZXH9LwoQg"
      },
      "source": [
        "---"
      ]
    },
    {
      "cell_type": "markdown",
      "metadata": {},
      "source": [
        "# Change working directory"
      ]
    },
    {
      "cell_type": "markdown",
      "metadata": {},
      "source": [
        "We need to change the working directory from its current folder to its parent folder\n",
        "* We access the current directory with os.getcwd()"
      ]
    },
    {
      "cell_type": "code",
      "execution_count": 1,
      "metadata": {},
      "outputs": [
        {
          "data": {
            "text/plain": [
              "'/workspace/milestone-project-heritage-housing-issues/jupyter_notebooks'"
            ]
          },
          "execution_count": 1,
          "metadata": {},
          "output_type": "execute_result"
        }
      ],
      "source": [
        "import os\n",
        "current_dir = os.getcwd()\n",
        "current_dir"
      ]
    },
    {
      "cell_type": "markdown",
      "metadata": {},
      "source": [
        "We want to make the parent of the parent of current directory the new current directory\n",
        "* os.path.dirname() gets the parent directory\n",
        "* os.chir() defines the new current directory"
      ]
    },
    {
      "cell_type": "code",
      "execution_count": 2,
      "metadata": {},
      "outputs": [
        {
          "name": "stdout",
          "output_type": "stream",
          "text": [
            "You set a new current directory\n"
          ]
        }
      ],
      "source": [
        "os.chdir(os.path.dirname(current_dir))\n",
        "print(\"You set a new current directory\")"
      ]
    },
    {
      "cell_type": "markdown",
      "metadata": {},
      "source": [
        "Confirm the new current directory"
      ]
    },
    {
      "cell_type": "code",
      "execution_count": 3,
      "metadata": {},
      "outputs": [
        {
          "data": {
            "text/plain": [
              "'/workspace/milestone-project-heritage-housing-issues'"
            ]
          },
          "execution_count": 3,
          "metadata": {},
          "output_type": "execute_result"
        }
      ],
      "source": [
        "current_dir = os.getcwd()\n",
        "current_dir"
      ]
    },
    {
      "cell_type": "markdown",
      "metadata": {
        "id": "pXKlJFX0iuM5"
      },
      "source": [
        "---"
      ]
    },
    {
      "cell_type": "markdown",
      "metadata": {
        "id": "-mavJ8DibrcQ"
      },
      "source": [
        "# Load Data"
      ]
    },
    {
      "cell_type": "code",
      "execution_count": 4,
      "metadata": {
        "id": "Xk7DU_ekbtX8"
      },
      "outputs": [
        {
          "data": {
            "text/html": [
              "<div>\n",
              "<style scoped>\n",
              "    .dataframe tbody tr th:only-of-type {\n",
              "        vertical-align: middle;\n",
              "    }\n",
              "\n",
              "    .dataframe tbody tr th {\n",
              "        vertical-align: top;\n",
              "    }\n",
              "\n",
              "    .dataframe thead th {\n",
              "        text-align: right;\n",
              "    }\n",
              "</style>\n",
              "<table border=\"1\" class=\"dataframe\">\n",
              "  <thead>\n",
              "    <tr style=\"text-align: right;\">\n",
              "      <th></th>\n",
              "      <th>1stFlrSF</th>\n",
              "      <th>2ndFlrSF</th>\n",
              "      <th>BedroomAbvGr</th>\n",
              "      <th>BsmtExposure</th>\n",
              "      <th>BsmtFinSF1</th>\n",
              "      <th>BsmtFinType1</th>\n",
              "      <th>BsmtUnfSF</th>\n",
              "      <th>EnclosedPorch</th>\n",
              "      <th>GarageArea</th>\n",
              "      <th>GarageFinish</th>\n",
              "      <th>...</th>\n",
              "      <th>LotFrontage</th>\n",
              "      <th>MasVnrArea</th>\n",
              "      <th>OpenPorchSF</th>\n",
              "      <th>OverallCond</th>\n",
              "      <th>OverallQual</th>\n",
              "      <th>TotalBsmtSF</th>\n",
              "      <th>WoodDeckSF</th>\n",
              "      <th>YearBuilt</th>\n",
              "      <th>YearRemodAdd</th>\n",
              "      <th>SalePrice</th>\n",
              "    </tr>\n",
              "  </thead>\n",
              "  <tbody>\n",
              "    <tr>\n",
              "      <th>0</th>\n",
              "      <td>856.0</td>\n",
              "      <td>854.0</td>\n",
              "      <td>3.0</td>\n",
              "      <td>No</td>\n",
              "      <td>706.0</td>\n",
              "      <td>GLQ</td>\n",
              "      <td>150.0</td>\n",
              "      <td>0.0</td>\n",
              "      <td>548.0</td>\n",
              "      <td>RFn</td>\n",
              "      <td>...</td>\n",
              "      <td>65.0</td>\n",
              "      <td>196.0</td>\n",
              "      <td>61.0</td>\n",
              "      <td>5</td>\n",
              "      <td>7</td>\n",
              "      <td>856.0</td>\n",
              "      <td>0.0</td>\n",
              "      <td>2003</td>\n",
              "      <td>2003</td>\n",
              "      <td>208500.0</td>\n",
              "    </tr>\n",
              "    <tr>\n",
              "      <th>1</th>\n",
              "      <td>1262.0</td>\n",
              "      <td>0.0</td>\n",
              "      <td>3.0</td>\n",
              "      <td>Gd</td>\n",
              "      <td>978.0</td>\n",
              "      <td>ALQ</td>\n",
              "      <td>284.0</td>\n",
              "      <td>NaN</td>\n",
              "      <td>460.0</td>\n",
              "      <td>RFn</td>\n",
              "      <td>...</td>\n",
              "      <td>80.0</td>\n",
              "      <td>0.0</td>\n",
              "      <td>0.0</td>\n",
              "      <td>8</td>\n",
              "      <td>6</td>\n",
              "      <td>1262.0</td>\n",
              "      <td>NaN</td>\n",
              "      <td>1976</td>\n",
              "      <td>1976</td>\n",
              "      <td>181500.0</td>\n",
              "    </tr>\n",
              "    <tr>\n",
              "      <th>2</th>\n",
              "      <td>920.0</td>\n",
              "      <td>866.0</td>\n",
              "      <td>3.0</td>\n",
              "      <td>Mn</td>\n",
              "      <td>486.0</td>\n",
              "      <td>GLQ</td>\n",
              "      <td>434.0</td>\n",
              "      <td>0.0</td>\n",
              "      <td>608.0</td>\n",
              "      <td>RFn</td>\n",
              "      <td>...</td>\n",
              "      <td>68.0</td>\n",
              "      <td>162.0</td>\n",
              "      <td>42.0</td>\n",
              "      <td>5</td>\n",
              "      <td>7</td>\n",
              "      <td>920.0</td>\n",
              "      <td>NaN</td>\n",
              "      <td>2001</td>\n",
              "      <td>2002</td>\n",
              "      <td>223500.0</td>\n",
              "    </tr>\n",
              "  </tbody>\n",
              "</table>\n",
              "<p>3 rows × 24 columns</p>\n",
              "</div>"
            ],
            "text/plain": [
              "   1stFlrSF  2ndFlrSF  BedroomAbvGr BsmtExposure  BsmtFinSF1 BsmtFinType1  \\\n",
              "0     856.0     854.0           3.0           No       706.0          GLQ   \n",
              "1    1262.0       0.0           3.0           Gd       978.0          ALQ   \n",
              "2     920.0     866.0           3.0           Mn       486.0          GLQ   \n",
              "\n",
              "   BsmtUnfSF  EnclosedPorch  GarageArea GarageFinish  ...  LotFrontage  \\\n",
              "0      150.0            0.0       548.0          RFn  ...         65.0   \n",
              "1      284.0            NaN       460.0          RFn  ...         80.0   \n",
              "2      434.0            0.0       608.0          RFn  ...         68.0   \n",
              "\n",
              "   MasVnrArea OpenPorchSF  OverallCond  OverallQual  TotalBsmtSF  WoodDeckSF  \\\n",
              "0       196.0        61.0            5            7        856.0         0.0   \n",
              "1         0.0         0.0            8            6       1262.0         NaN   \n",
              "2       162.0        42.0            5            7        920.0         NaN   \n",
              "\n",
              "   YearBuilt  YearRemodAdd  SalePrice  \n",
              "0       2003          2003   208500.0  \n",
              "1       1976          1976   181500.0  \n",
              "2       2001          2002   223500.0  \n",
              "\n",
              "[3 rows x 24 columns]"
            ]
          },
          "execution_count": 4,
          "metadata": {},
          "output_type": "execute_result"
        }
      ],
      "source": [
        "import numpy as np\n",
        "import pandas as pd\n",
        "df = (pd.read_csv(\"outputs/datasets/collection/HousePricesRecords.csv\"))\n",
        "df.head(3)"
      ]
    },
    {
      "cell_type": "markdown",
      "metadata": {},
      "source": [
        "___"
      ]
    },
    {
      "cell_type": "markdown",
      "metadata": {
        "id": "krjAk78Tbyhv"
      },
      "source": [
        "# ML Pipeline for Regressor"
      ]
    },
    {
      "cell_type": "markdown",
      "metadata": {},
      "source": [
        "## Create ML pipeline"
      ]
    },
    {
      "cell_type": "markdown",
      "metadata": {},
      "source": [
        "* We need our custom encoder from the DataCleaning notebook"
      ]
    },
    {
      "cell_type": "code",
      "execution_count": 5,
      "metadata": {},
      "outputs": [],
      "source": [
        "### Custom Encoder\n",
        "from sklearn.base import BaseEstimator, TransformerMixin\n",
        "class MyCustomEncoder(BaseEstimator, TransformerMixin):\n",
        "\n",
        "  def __init__(self, variables, dic):\n",
        "    if not isinstance(variables, list): \n",
        "      self.variables = [variables]\n",
        "    else: self.variables = variables\n",
        "    self.dic = dic\n",
        "\n",
        "  def fit(self, X, y=None):    \n",
        "    return self\n",
        "\n",
        "  def transform(self, X):\n",
        "    for col in self.variables:\n",
        "      if X[col].dtype == 'object':\n",
        "        X[col] = X[col].replace(dic[col])\n",
        "      else:\n",
        "        print(f\"Warning: {col} data type should be object to use MyCustomEncoder()\")\n",
        "      \n",
        "    return X"
      ]
    },
    {
      "cell_type": "markdown",
      "metadata": {},
      "source": [
        "### Pipeline from the FeatureEngineering notebook where we add feature scaling, feature selection, transformation of numerical variables and model (as parameter):"
      ]
    },
    {
      "cell_type": "code",
      "execution_count": 7,
      "metadata": {
        "id": "C6keis6ao8LA"
      },
      "outputs": [],
      "source": [
        "from sklearn.pipeline import Pipeline\n",
        "\n",
        "### Drop features\n",
        "from feature_engine.selection import DropFeatures\n",
        "\n",
        "### Median Imputer\n",
        "from feature_engine.imputation import MeanMedianImputer\n",
        "\n",
        "### Correlation selection\n",
        "from feature_engine.selection import SmartCorrelatedSelection\n",
        "\n",
        "### Feat Scaling\n",
        "from sklearn.preprocessing import StandardScaler\n",
        "\n",
        "### Feat Selection\n",
        "from feature_engine import transformation as vt\n",
        "from sklearn.feature_selection import SelectFromModel\n",
        "\n",
        "### ML algorithms \n",
        "from sklearn.tree import DecisionTreeRegressor\n",
        "from xgboost import XGBRegressor\n",
        "from sklearn.ensemble import GradientBoostingRegressor, RandomForestRegressor\n",
        "from sklearn.linear_model import LinearRegression\n",
        "from sklearn.ensemble import AdaBoostRegressor\n",
        "from sklearn.ensemble import ExtraTreesRegressor\n",
        "\n",
        "# Add transformation of numerical variables\n",
        "def PipelineOptimization(dic, vars_with_missing_data, model):\n",
        "    \n",
        "      pipeline = Pipeline([\n",
        "            ('drop_features', DropFeatures(features_to_drop = ['EnclosedPorch', 'WoodDeckSF'])),\n",
        "            \n",
        "            ('custom_encoder', MyCustomEncoder(variables=['BsmtExposure', 'BsmtFinType1', 'GarageFinish', 'KitchenQual'], dic=dic)),\n",
        "            \n",
        "            ('median_imputer',  MeanMedianImputer(imputation_method='median', variables=vars_with_missing_data)),\n",
        "            \n",
        "            ('corr_sel', SmartCorrelatedSelection(method=\"spearman\", threshold=0.6, selection_method=\"variance\")),\n",
        "\n",
        "            ('pt', vt.PowerTransformer(variables=['BsmtUnfSF', 'OpenPorchSF'])),\n",
        "\n",
        "            ('log', vt.LogTransformer(variables=['GrLivArea'])),\n",
        "            \n",
        "            (\"feat_scaling\", StandardScaler() ),\n",
        "\n",
        "            (\"feat_selection\",  SelectFromModel(model) ),\n",
        "\n",
        "            (\"model\", model ),\n",
        "      ])\n",
        "\n",
        "      return pipeline"
      ]
    },
    {
      "cell_type": "markdown",
      "metadata": {
        "id": "lDmjjF3tHuCU"
      },
      "source": [
        "### Custom Class for hyperparameter Optimization: (From Code Institute Scikit lesson)"
      ]
    },
    {
      "cell_type": "code",
      "execution_count": 8,
      "metadata": {
        "id": "NpTcVDtQ5RMc"
      },
      "outputs": [],
      "source": [
        "from sklearn.model_selection import GridSearchCV\n",
        "class HyperparameterOptimizationSearch:\n",
        "\n",
        "    def __init__(self, dic, vars_with_missing_data, models, params):\n",
        "        self.dic = dic\n",
        "        self.vars_with_missing_data = vars_with_missing_data\n",
        "        self.models = models\n",
        "        self.params = params\n",
        "        self.keys = models.keys()\n",
        "        self.grid_searches = {}\n",
        "\n",
        "    def fit(self, X, y, cv, n_jobs, verbose=1, scoring=None, refit=False):\n",
        "        for key in self.keys:\n",
        "            print(f\"\\nRunning GridSearchCV for {key} \\n\")\n",
        "            model=  PipelineOptimization(dic, vars_with_missing_data, self.models[key],)\n",
        "\n",
        "            params = self.params[key]\n",
        "            gs = GridSearchCV(model, params, cv=cv, n_jobs=n_jobs, verbose=verbose, scoring=scoring)\n",
        "            gs.fit(X,y)\n",
        "            self.grid_searches[key] = gs    \n",
        "\n",
        "    def score_summary(self, sort_by='mean_score'):\n",
        "        def row(key, scores, params):\n",
        "            d = {\n",
        "                 'estimator': key,\n",
        "                 'min_score': min(scores),\n",
        "                 'max_score': max(scores),\n",
        "                 'mean_score': np.mean(scores),\n",
        "                 'std_score': np.std(scores),\n",
        "            }\n",
        "            return pd.Series({**params,**d})\n",
        "\n",
        "        rows = []\n",
        "        for k in self.grid_searches:\n",
        "            params = self.grid_searches[k].cv_results_['params']\n",
        "            scores = []\n",
        "            for i in range(self.grid_searches[k].cv):\n",
        "                key = \"split{}_test_score\".format(i)\n",
        "                r = self.grid_searches[k].cv_results_[key]        \n",
        "                scores.append(r.reshape(len(params),1))\n",
        "\n",
        "            all_scores = np.hstack(scores)\n",
        "            for p, s in zip(params,all_scores):\n",
        "                rows.append((row(k, s, p)))\n",
        "\n",
        "        df = pd.concat(rows, axis=1).T.sort_values([sort_by], ascending=False)\n",
        "\n",
        "        columns = ['estimator', 'min_score', 'mean_score', 'max_score', 'std_score']\n",
        "        columns = columns + [c for c in df.columns if c not in columns]\n",
        "\n",
        "        return df[columns], self.grid_searches\n"
      ]
    },
    {
      "cell_type": "markdown",
      "metadata": {
        "id": "LD6B3CuhiDMT"
      },
      "source": [
        "## Split the data in Train and Test Set"
      ]
    },
    {
      "cell_type": "code",
      "execution_count": 9,
      "metadata": {
        "id": "-pFzP2iGiIk1"
      },
      "outputs": [
        {
          "name": "stdout",
          "output_type": "stream",
          "text": [
            "* Train set: (1168, 23) (1168,) \n",
            "* Test set: (292, 23) (292,)\n"
          ]
        }
      ],
      "source": [
        "from sklearn.model_selection import train_test_split\n",
        "X_train, X_test,y_train, y_test = train_test_split(\n",
        "                                    df.drop(['SalePrice'],axis=1),\n",
        "                                    df['SalePrice'],\n",
        "                                    test_size=0.2,\n",
        "                                    random_state=0\n",
        "                                    )\n",
        "\n",
        "print(\"* Train set:\", X_train.shape, y_train.shape, \"\\n* Test set:\",  X_test.shape, y_test.shape)"
      ]
    },
    {
      "cell_type": "markdown",
      "metadata": {
        "id": "-15-sWUST6XX"
      },
      "source": [
        "## Grid Search CV - Sklearn"
      ]
    },
    {
      "cell_type": "markdown",
      "metadata": {
        "id": "KTFXq-ieogBj"
      },
      "source": [
        "### Try seven ML algorithms with default hyperparameters"
      ]
    },
    {
      "cell_type": "code",
      "execution_count": 10,
      "metadata": {
        "id": "XZKV86gsPw8c"
      },
      "outputs": [],
      "source": [
        "models_quick_search = {\n",
        "    'LinearRegression': LinearRegression(),\n",
        "    \"DecisionTreeRegressor\": DecisionTreeRegressor(random_state=0),\n",
        "    \"RandomForestRegressor\": RandomForestRegressor(random_state=0),\n",
        "    \"ExtraTreesRegressor\": ExtraTreesRegressor(random_state=0),\n",
        "    \"AdaBoostRegressor\": AdaBoostRegressor(random_state=0),\n",
        "    \"GradientBoostingRegressor\": GradientBoostingRegressor(random_state=0),\n",
        "    \"XGBRegressor\": XGBRegressor(random_state=0),\n",
        "}\n",
        "\n",
        "params_quick_search = {\n",
        "    'LinearRegression': {},\n",
        "    \"DecisionTreeRegressor\": {},\n",
        "    \"RandomForestRegressor\": {},\n",
        "    \"ExtraTreesRegressor\": {},\n",
        "    \"AdaBoostRegressor\": {},\n",
        "    \"GradientBoostingRegressor\": {},\n",
        "    \"XGBRegressor\": {},\n",
        "}"
      ]
    },
    {
      "cell_type": "code",
      "execution_count": 11,
      "metadata": {},
      "outputs": [],
      "source": [
        "# Dictionary for MyCustomEncoder\n",
        "dic = {'BsmtExposure': {'Gd': 4, 'Av': 3, 'Mn': 2, 'No': 1, 'None': 0}, 'BsmtFinType1': {'GLQ': 6, 'ALQ': 5, 'BLQ': 4, 'Rec': 3, 'LwQ': 2, 'Unf': 1, 'None': 0}, 'GarageFinish': {'Fin': 3, 'RFn': 2, 'Unf': 1, 'None': 0}, 'KitchenQual': {'Ex': 4, 'Gd': 3, 'TA': 2, 'Fa': 1, 'Po': 0}}\n",
        "\n",
        "# Variables with missing variables after dropping ['EnclosedPorch', 'WoodDeckSF']. This is a parameter passed to MeanMedianImputer\n",
        "vars_with_missing_data = ['2ndFlrSF', 'BedroomAbvGr', 'BsmtFinType1', 'GarageFinish', 'GarageYrBlt', 'LotFrontage', 'MasVnrArea']     \n"
      ]
    },
    {
      "cell_type": "markdown",
      "metadata": {
        "id": "jGABtSoSLP9u"
      },
      "source": [
        "### Train five models (one for each of the five crossvalidations, cv=5) for each algoritm, and default hyperparameters."
      ]
    },
    {
      "cell_type": "code",
      "execution_count": 12,
      "metadata": {
        "id": "-_q-ru92GiBb"
      },
      "outputs": [
        {
          "name": "stdout",
          "output_type": "stream",
          "text": [
            "\n",
            "Running GridSearchCV for LinearRegression \n",
            "\n",
            "Fitting 5 folds for each of 1 candidates, totalling 5 fits\n",
            "\n",
            "Running GridSearchCV for DecisionTreeRegressor \n",
            "\n",
            "Fitting 5 folds for each of 1 candidates, totalling 5 fits\n",
            "\n",
            "Running GridSearchCV for RandomForestRegressor \n",
            "\n",
            "Fitting 5 folds for each of 1 candidates, totalling 5 fits\n",
            "\n",
            "Running GridSearchCV for ExtraTreesRegressor \n",
            "\n",
            "Fitting 5 folds for each of 1 candidates, totalling 5 fits\n",
            "\n",
            "Running GridSearchCV for AdaBoostRegressor \n",
            "\n",
            "Fitting 5 folds for each of 1 candidates, totalling 5 fits\n",
            "\n",
            "Running GridSearchCV for GradientBoostingRegressor \n",
            "\n",
            "Fitting 5 folds for each of 1 candidates, totalling 5 fits\n",
            "\n",
            "Running GridSearchCV for XGBRegressor \n",
            "\n",
            "Fitting 5 folds for each of 1 candidates, totalling 5 fits\n"
          ]
        }
      ],
      "source": [
        "search = HyperparameterOptimizationSearch(dic=dic, vars_with_missing_data=vars_with_missing_data, models=models_quick_search, params=params_quick_search)\n",
        "search.fit(X_train, y_train, scoring='r2', n_jobs=-1, cv=5)"
      ]
    },
    {
      "cell_type": "markdown",
      "metadata": {
        "id": "c7p56nXeoqWo"
      },
      "source": [
        "### Check results"
      ]
    },
    {
      "cell_type": "code",
      "execution_count": 13,
      "metadata": {
        "id": "mq4YlrmZooiw"
      },
      "outputs": [
        {
          "data": {
            "text/html": [
              "<div>\n",
              "<style scoped>\n",
              "    .dataframe tbody tr th:only-of-type {\n",
              "        vertical-align: middle;\n",
              "    }\n",
              "\n",
              "    .dataframe tbody tr th {\n",
              "        vertical-align: top;\n",
              "    }\n",
              "\n",
              "    .dataframe thead th {\n",
              "        text-align: right;\n",
              "    }\n",
              "</style>\n",
              "<table border=\"1\" class=\"dataframe\">\n",
              "  <thead>\n",
              "    <tr style=\"text-align: right;\">\n",
              "      <th></th>\n",
              "      <th>estimator</th>\n",
              "      <th>min_score</th>\n",
              "      <th>mean_score</th>\n",
              "      <th>max_score</th>\n",
              "      <th>std_score</th>\n",
              "    </tr>\n",
              "  </thead>\n",
              "  <tbody>\n",
              "    <tr>\n",
              "      <th>3</th>\n",
              "      <td>ExtraTreesRegressor</td>\n",
              "      <td>0.674397</td>\n",
              "      <td>0.805334</td>\n",
              "      <td>0.872805</td>\n",
              "      <td>0.0733644</td>\n",
              "    </tr>\n",
              "    <tr>\n",
              "      <th>2</th>\n",
              "      <td>RandomForestRegressor</td>\n",
              "      <td>0.630557</td>\n",
              "      <td>0.791425</td>\n",
              "      <td>0.859635</td>\n",
              "      <td>0.0846068</td>\n",
              "    </tr>\n",
              "    <tr>\n",
              "      <th>5</th>\n",
              "      <td>GradientBoostingRegressor</td>\n",
              "      <td>0.63931</td>\n",
              "      <td>0.764258</td>\n",
              "      <td>0.850056</td>\n",
              "      <td>0.0835967</td>\n",
              "    </tr>\n",
              "    <tr>\n",
              "      <th>0</th>\n",
              "      <td>LinearRegression</td>\n",
              "      <td>0.697861</td>\n",
              "      <td>0.748593</td>\n",
              "      <td>0.795511</td>\n",
              "      <td>0.0331303</td>\n",
              "    </tr>\n",
              "    <tr>\n",
              "      <th>6</th>\n",
              "      <td>XGBRegressor</td>\n",
              "      <td>0.637822</td>\n",
              "      <td>0.737927</td>\n",
              "      <td>0.820724</td>\n",
              "      <td>0.0700456</td>\n",
              "    </tr>\n",
              "    <tr>\n",
              "      <th>4</th>\n",
              "      <td>AdaBoostRegressor</td>\n",
              "      <td>0.602909</td>\n",
              "      <td>0.712744</td>\n",
              "      <td>0.777303</td>\n",
              "      <td>0.069266</td>\n",
              "    </tr>\n",
              "    <tr>\n",
              "      <th>1</th>\n",
              "      <td>DecisionTreeRegressor</td>\n",
              "      <td>0.49583</td>\n",
              "      <td>0.621785</td>\n",
              "      <td>0.672732</td>\n",
              "      <td>0.0669374</td>\n",
              "    </tr>\n",
              "  </tbody>\n",
              "</table>\n",
              "</div>"
            ],
            "text/plain": [
              "                   estimator min_score mean_score max_score  std_score\n",
              "3        ExtraTreesRegressor  0.674397   0.805334  0.872805  0.0733644\n",
              "2      RandomForestRegressor  0.630557   0.791425  0.859635  0.0846068\n",
              "5  GradientBoostingRegressor   0.63931   0.764258  0.850056  0.0835967\n",
              "0           LinearRegression  0.697861   0.748593  0.795511  0.0331303\n",
              "6               XGBRegressor  0.637822   0.737927  0.820724  0.0700456\n",
              "4          AdaBoostRegressor  0.602909   0.712744  0.777303   0.069266\n",
              "1      DecisionTreeRegressor   0.49583   0.621785  0.672732  0.0669374"
            ]
          },
          "execution_count": 13,
          "metadata": {},
          "output_type": "execute_result"
        }
      ],
      "source": [
        "grid_search_summary, grid_search_pipelines = search.score_summary(sort_by='mean_score')\n",
        "grid_search_summary"
      ]
    },
    {
      "cell_type": "markdown",
      "metadata": {
        "id": "6pRUAeoG9lrZ"
      },
      "source": [
        "### Conduct hyperparameter optimization on the top four models using hyperparameter combinations from Code Institute Scikit lesson"
      ]
    },
    {
      "cell_type": "code",
      "execution_count": 14,
      "metadata": {
        "id": "lyjC7ThFAYKY"
      },
      "outputs": [],
      "source": [
        "models_search = {\n",
        "    \"ExtraTreesRegressor\": ExtraTreesRegressor(random_state=0),\n",
        "    \"RandomForestRegressor\": RandomForestRegressor(random_state=0),\n",
        "    \"LinearRegression\": LinearRegression(),\n",
        "    \"GradientBoostingRegressor\": GradientBoostingRegressor(random_state=0),\n",
        "}\n",
        "\n",
        "params_search = {\n",
        "    \"ExtraTreesRegressor\":{'model__n_estimators': [100,50,150],\n",
        "                           'model__max_depth': [None, 3, 15],\n",
        "                           'model__min_samples_split': [2, 50],\n",
        "                           'model__min_samples_leaf': [1,50],\n",
        "    },\n",
        "    \"RandomForestRegressor\":{'model__n_estimators': [100,50, 140],\n",
        "                             'model__max_depth': [None,4, 15],\n",
        "                             'model__min_samples_split': [2,50],\n",
        "                             'model__min_samples_leaf': [1,50],\n",
        "                             'model__max_leaf_nodes': [None,50],\n",
        "    },\n",
        "    \"LinearRegression\":{},\n",
        "    \"GradientBoostingRegressor\":{'model__n_estimators': [100,50,140],\n",
        "                                 'model__learning_rate':[0.1, 0.01, 0.001],\n",
        "                                 'model__max_depth': [3,15, None],\n",
        "                                 'model__min_samples_split': [2,50],\n",
        "                                 'model__min_samples_leaf': [1,50],\n",
        "                                 'model__max_leaf_nodes': [None,50],\n",
        "    }\n",
        "}"
      ]
    },
    {
      "cell_type": "markdown",
      "metadata": {
        "id": "sBy8thxqAlrd"
      },
      "source": [
        "Train models with GridSearchCV, in total 1625 models"
      ]
    },
    {
      "cell_type": "code",
      "execution_count": 15,
      "metadata": {
        "id": "Y_4Ob7heAYM9"
      },
      "outputs": [
        {
          "name": "stdout",
          "output_type": "stream",
          "text": [
            "\n",
            "Running GridSearchCV for ExtraTreesRegressor \n",
            "\n",
            "Fitting 5 folds for each of 36 candidates, totalling 180 fits\n",
            "\n",
            "Running GridSearchCV for RandomForestRegressor \n",
            "\n",
            "Fitting 5 folds for each of 72 candidates, totalling 360 fits\n",
            "\n",
            "Running GridSearchCV for LinearRegression \n",
            "\n",
            "Fitting 5 folds for each of 1 candidates, totalling 5 fits\n",
            "\n",
            "Running GridSearchCV for GradientBoostingRegressor \n",
            "\n",
            "Fitting 5 folds for each of 216 candidates, totalling 1080 fits\n"
          ]
        }
      ],
      "source": [
        "search = HyperparameterOptimizationSearch(dic=dic, vars_with_missing_data=vars_with_missing_data, models=models_search, params=params_search)\n",
        "search.fit(X_train, y_train, scoring = 'r2', n_jobs=-1, cv=5)"
      ]
    },
    {
      "cell_type": "markdown",
      "metadata": {
        "id": "wtNJJpLEAzdP"
      },
      "source": [
        "### Check results"
      ]
    },
    {
      "cell_type": "code",
      "execution_count": 16,
      "metadata": {
        "id": "qjauRLNHAYPr"
      },
      "outputs": [
        {
          "data": {
            "text/html": [
              "<div>\n",
              "<style scoped>\n",
              "    .dataframe tbody tr th:only-of-type {\n",
              "        vertical-align: middle;\n",
              "    }\n",
              "\n",
              "    .dataframe tbody tr th {\n",
              "        vertical-align: top;\n",
              "    }\n",
              "\n",
              "    .dataframe thead th {\n",
              "        text-align: right;\n",
              "    }\n",
              "</style>\n",
              "<table border=\"1\" class=\"dataframe\">\n",
              "  <thead>\n",
              "    <tr style=\"text-align: right;\">\n",
              "      <th></th>\n",
              "      <th>estimator</th>\n",
              "      <th>min_score</th>\n",
              "      <th>mean_score</th>\n",
              "      <th>max_score</th>\n",
              "      <th>std_score</th>\n",
              "      <th>model__max_depth</th>\n",
              "      <th>model__min_samples_leaf</th>\n",
              "      <th>model__min_samples_split</th>\n",
              "      <th>model__n_estimators</th>\n",
              "      <th>model__max_leaf_nodes</th>\n",
              "      <th>model__learning_rate</th>\n",
              "    </tr>\n",
              "  </thead>\n",
              "  <tbody>\n",
              "    <tr>\n",
              "      <th>132</th>\n",
              "      <td>GradientBoostingRegressor</td>\n",
              "      <td>0.76362</td>\n",
              "      <td>0.81304</td>\n",
              "      <td>0.851956</td>\n",
              "      <td>0.0321198</td>\n",
              "      <td>3</td>\n",
              "      <td>50</td>\n",
              "      <td>50</td>\n",
              "      <td>140</td>\n",
              "      <td>50</td>\n",
              "      <td>0.1</td>\n",
              "    </tr>\n",
              "    <tr>\n",
              "      <th>129</th>\n",
              "      <td>GradientBoostingRegressor</td>\n",
              "      <td>0.76362</td>\n",
              "      <td>0.81304</td>\n",
              "      <td>0.851956</td>\n",
              "      <td>0.0321198</td>\n",
              "      <td>3</td>\n",
              "      <td>50</td>\n",
              "      <td>2</td>\n",
              "      <td>140</td>\n",
              "      <td>50</td>\n",
              "      <td>0.1</td>\n",
              "    </tr>\n",
              "    <tr>\n",
              "      <th>117</th>\n",
              "      <td>GradientBoostingRegressor</td>\n",
              "      <td>0.76362</td>\n",
              "      <td>0.81304</td>\n",
              "      <td>0.851956</td>\n",
              "      <td>0.0321198</td>\n",
              "      <td>3</td>\n",
              "      <td>50</td>\n",
              "      <td>2</td>\n",
              "      <td>140</td>\n",
              "      <td>None</td>\n",
              "      <td>0.1</td>\n",
              "    </tr>\n",
              "    <tr>\n",
              "      <th>120</th>\n",
              "      <td>GradientBoostingRegressor</td>\n",
              "      <td>0.76362</td>\n",
              "      <td>0.81304</td>\n",
              "      <td>0.851956</td>\n",
              "      <td>0.0321198</td>\n",
              "      <td>3</td>\n",
              "      <td>50</td>\n",
              "      <td>50</td>\n",
              "      <td>140</td>\n",
              "      <td>None</td>\n",
              "      <td>0.1</td>\n",
              "    </tr>\n",
              "    <tr>\n",
              "      <th>115</th>\n",
              "      <td>GradientBoostingRegressor</td>\n",
              "      <td>0.762197</td>\n",
              "      <td>0.812875</td>\n",
              "      <td>0.850881</td>\n",
              "      <td>0.0324312</td>\n",
              "      <td>3</td>\n",
              "      <td>50</td>\n",
              "      <td>2</td>\n",
              "      <td>100</td>\n",
              "      <td>None</td>\n",
              "      <td>0.1</td>\n",
              "    </tr>\n",
              "    <tr>\n",
              "      <th>118</th>\n",
              "      <td>GradientBoostingRegressor</td>\n",
              "      <td>0.762197</td>\n",
              "      <td>0.812875</td>\n",
              "      <td>0.850881</td>\n",
              "      <td>0.0324312</td>\n",
              "      <td>3</td>\n",
              "      <td>50</td>\n",
              "      <td>50</td>\n",
              "      <td>100</td>\n",
              "      <td>None</td>\n",
              "      <td>0.1</td>\n",
              "    </tr>\n",
              "    <tr>\n",
              "      <th>130</th>\n",
              "      <td>GradientBoostingRegressor</td>\n",
              "      <td>0.762197</td>\n",
              "      <td>0.812875</td>\n",
              "      <td>0.850881</td>\n",
              "      <td>0.0324312</td>\n",
              "      <td>3</td>\n",
              "      <td>50</td>\n",
              "      <td>50</td>\n",
              "      <td>100</td>\n",
              "      <td>50</td>\n",
              "      <td>0.1</td>\n",
              "    </tr>\n",
              "    <tr>\n",
              "      <th>127</th>\n",
              "      <td>GradientBoostingRegressor</td>\n",
              "      <td>0.762197</td>\n",
              "      <td>0.812875</td>\n",
              "      <td>0.850881</td>\n",
              "      <td>0.0324312</td>\n",
              "      <td>3</td>\n",
              "      <td>50</td>\n",
              "      <td>2</td>\n",
              "      <td>100</td>\n",
              "      <td>50</td>\n",
              "      <td>0.1</td>\n",
              "    </tr>\n",
              "    <tr>\n",
              "      <th>177</th>\n",
              "      <td>GradientBoostingRegressor</td>\n",
              "      <td>0.758101</td>\n",
              "      <td>0.811575</td>\n",
              "      <td>0.855133</td>\n",
              "      <td>0.034728</td>\n",
              "      <td>None</td>\n",
              "      <td>50</td>\n",
              "      <td>2</td>\n",
              "      <td>140</td>\n",
              "      <td>50</td>\n",
              "      <td>0.1</td>\n",
              "    </tr>\n",
              "    <tr>\n",
              "      <th>168</th>\n",
              "      <td>GradientBoostingRegressor</td>\n",
              "      <td>0.758101</td>\n",
              "      <td>0.811575</td>\n",
              "      <td>0.855133</td>\n",
              "      <td>0.034728</td>\n",
              "      <td>None</td>\n",
              "      <td>50</td>\n",
              "      <td>50</td>\n",
              "      <td>140</td>\n",
              "      <td>None</td>\n",
              "      <td>0.1</td>\n",
              "    </tr>\n",
              "    <tr>\n",
              "      <th>156</th>\n",
              "      <td>GradientBoostingRegressor</td>\n",
              "      <td>0.758101</td>\n",
              "      <td>0.811575</td>\n",
              "      <td>0.855133</td>\n",
              "      <td>0.034728</td>\n",
              "      <td>15</td>\n",
              "      <td>50</td>\n",
              "      <td>50</td>\n",
              "      <td>140</td>\n",
              "      <td>50</td>\n",
              "      <td>0.1</td>\n",
              "    </tr>\n",
              "    <tr>\n",
              "      <th>153</th>\n",
              "      <td>GradientBoostingRegressor</td>\n",
              "      <td>0.758101</td>\n",
              "      <td>0.811575</td>\n",
              "      <td>0.855133</td>\n",
              "      <td>0.034728</td>\n",
              "      <td>15</td>\n",
              "      <td>50</td>\n",
              "      <td>2</td>\n",
              "      <td>140</td>\n",
              "      <td>50</td>\n",
              "      <td>0.1</td>\n",
              "    </tr>\n",
              "    <tr>\n",
              "      <th>144</th>\n",
              "      <td>GradientBoostingRegressor</td>\n",
              "      <td>0.758101</td>\n",
              "      <td>0.811575</td>\n",
              "      <td>0.855133</td>\n",
              "      <td>0.034728</td>\n",
              "      <td>15</td>\n",
              "      <td>50</td>\n",
              "      <td>50</td>\n",
              "      <td>140</td>\n",
              "      <td>None</td>\n",
              "      <td>0.1</td>\n",
              "    </tr>\n",
              "    <tr>\n",
              "      <th>180</th>\n",
              "      <td>GradientBoostingRegressor</td>\n",
              "      <td>0.758101</td>\n",
              "      <td>0.811575</td>\n",
              "      <td>0.855133</td>\n",
              "      <td>0.034728</td>\n",
              "      <td>None</td>\n",
              "      <td>50</td>\n",
              "      <td>50</td>\n",
              "      <td>140</td>\n",
              "      <td>50</td>\n",
              "      <td>0.1</td>\n",
              "    </tr>\n",
              "    <tr>\n",
              "      <th>165</th>\n",
              "      <td>GradientBoostingRegressor</td>\n",
              "      <td>0.758101</td>\n",
              "      <td>0.811575</td>\n",
              "      <td>0.855133</td>\n",
              "      <td>0.034728</td>\n",
              "      <td>None</td>\n",
              "      <td>50</td>\n",
              "      <td>2</td>\n",
              "      <td>140</td>\n",
              "      <td>None</td>\n",
              "      <td>0.1</td>\n",
              "    </tr>\n",
              "    <tr>\n",
              "      <th>141</th>\n",
              "      <td>GradientBoostingRegressor</td>\n",
              "      <td>0.758101</td>\n",
              "      <td>0.811575</td>\n",
              "      <td>0.855133</td>\n",
              "      <td>0.034728</td>\n",
              "      <td>15</td>\n",
              "      <td>50</td>\n",
              "      <td>2</td>\n",
              "      <td>140</td>\n",
              "      <td>None</td>\n",
              "      <td>0.1</td>\n",
              "    </tr>\n",
              "    <tr>\n",
              "      <th>178</th>\n",
              "      <td>GradientBoostingRegressor</td>\n",
              "      <td>0.757085</td>\n",
              "      <td>0.810912</td>\n",
              "      <td>0.853991</td>\n",
              "      <td>0.0354159</td>\n",
              "      <td>None</td>\n",
              "      <td>50</td>\n",
              "      <td>50</td>\n",
              "      <td>100</td>\n",
              "      <td>50</td>\n",
              "      <td>0.1</td>\n",
              "    </tr>\n",
              "    <tr>\n",
              "      <th>139</th>\n",
              "      <td>GradientBoostingRegressor</td>\n",
              "      <td>0.757085</td>\n",
              "      <td>0.810912</td>\n",
              "      <td>0.853991</td>\n",
              "      <td>0.0354159</td>\n",
              "      <td>15</td>\n",
              "      <td>50</td>\n",
              "      <td>2</td>\n",
              "      <td>100</td>\n",
              "      <td>None</td>\n",
              "      <td>0.1</td>\n",
              "    </tr>\n",
              "    <tr>\n",
              "      <th>175</th>\n",
              "      <td>GradientBoostingRegressor</td>\n",
              "      <td>0.757085</td>\n",
              "      <td>0.810912</td>\n",
              "      <td>0.853991</td>\n",
              "      <td>0.0354159</td>\n",
              "      <td>None</td>\n",
              "      <td>50</td>\n",
              "      <td>2</td>\n",
              "      <td>100</td>\n",
              "      <td>50</td>\n",
              "      <td>0.1</td>\n",
              "    </tr>\n",
              "    <tr>\n",
              "      <th>166</th>\n",
              "      <td>GradientBoostingRegressor</td>\n",
              "      <td>0.757085</td>\n",
              "      <td>0.810912</td>\n",
              "      <td>0.853991</td>\n",
              "      <td>0.0354159</td>\n",
              "      <td>None</td>\n",
              "      <td>50</td>\n",
              "      <td>50</td>\n",
              "      <td>100</td>\n",
              "      <td>None</td>\n",
              "      <td>0.1</td>\n",
              "    </tr>\n",
              "    <tr>\n",
              "      <th>142</th>\n",
              "      <td>GradientBoostingRegressor</td>\n",
              "      <td>0.757085</td>\n",
              "      <td>0.810912</td>\n",
              "      <td>0.853991</td>\n",
              "      <td>0.0354159</td>\n",
              "      <td>15</td>\n",
              "      <td>50</td>\n",
              "      <td>50</td>\n",
              "      <td>100</td>\n",
              "      <td>None</td>\n",
              "      <td>0.1</td>\n",
              "    </tr>\n",
              "    <tr>\n",
              "      <th>151</th>\n",
              "      <td>GradientBoostingRegressor</td>\n",
              "      <td>0.757085</td>\n",
              "      <td>0.810912</td>\n",
              "      <td>0.853991</td>\n",
              "      <td>0.0354159</td>\n",
              "      <td>15</td>\n",
              "      <td>50</td>\n",
              "      <td>2</td>\n",
              "      <td>100</td>\n",
              "      <td>50</td>\n",
              "      <td>0.1</td>\n",
              "    </tr>\n",
              "    <tr>\n",
              "      <th>163</th>\n",
              "      <td>GradientBoostingRegressor</td>\n",
              "      <td>0.757085</td>\n",
              "      <td>0.810912</td>\n",
              "      <td>0.853991</td>\n",
              "      <td>0.0354159</td>\n",
              "      <td>None</td>\n",
              "      <td>50</td>\n",
              "      <td>2</td>\n",
              "      <td>100</td>\n",
              "      <td>None</td>\n",
              "      <td>0.1</td>\n",
              "    </tr>\n",
              "    <tr>\n",
              "      <th>154</th>\n",
              "      <td>GradientBoostingRegressor</td>\n",
              "      <td>0.757085</td>\n",
              "      <td>0.810912</td>\n",
              "      <td>0.853991</td>\n",
              "      <td>0.0354159</td>\n",
              "      <td>15</td>\n",
              "      <td>50</td>\n",
              "      <td>50</td>\n",
              "      <td>100</td>\n",
              "      <td>50</td>\n",
              "      <td>0.1</td>\n",
              "    </tr>\n",
              "    <tr>\n",
              "      <th>24</th>\n",
              "      <td>ExtraTreesRegressor</td>\n",
              "      <td>0.690575</td>\n",
              "      <td>0.810316</td>\n",
              "      <td>0.879486</td>\n",
              "      <td>0.0689263</td>\n",
              "      <td>15</td>\n",
              "      <td>1</td>\n",
              "      <td>2</td>\n",
              "      <td>100</td>\n",
              "      <td>NaN</td>\n",
              "      <td>NaN</td>\n",
              "    </tr>\n",
              "    <tr>\n",
              "      <th>26</th>\n",
              "      <td>ExtraTreesRegressor</td>\n",
              "      <td>0.687301</td>\n",
              "      <td>0.809179</td>\n",
              "      <td>0.877389</td>\n",
              "      <td>0.070384</td>\n",
              "      <td>15</td>\n",
              "      <td>1</td>\n",
              "      <td>2</td>\n",
              "      <td>150</td>\n",
              "      <td>NaN</td>\n",
              "      <td>NaN</td>\n",
              "    </tr>\n",
              "    <tr>\n",
              "      <th>2</th>\n",
              "      <td>ExtraTreesRegressor</td>\n",
              "      <td>0.680784</td>\n",
              "      <td>0.809017</td>\n",
              "      <td>0.87493</td>\n",
              "      <td>0.0716566</td>\n",
              "      <td>None</td>\n",
              "      <td>1</td>\n",
              "      <td>2</td>\n",
              "      <td>150</td>\n",
              "      <td>NaN</td>\n",
              "      <td>NaN</td>\n",
              "    </tr>\n",
              "    <tr>\n",
              "      <th>29</th>\n",
              "      <td>ExtraTreesRegressor</td>\n",
              "      <td>0.756619</td>\n",
              "      <td>0.807322</td>\n",
              "      <td>0.851644</td>\n",
              "      <td>0.0413985</td>\n",
              "      <td>15</td>\n",
              "      <td>1</td>\n",
              "      <td>50</td>\n",
              "      <td>150</td>\n",
              "      <td>NaN</td>\n",
              "      <td>NaN</td>\n",
              "    </tr>\n",
              "    <tr>\n",
              "      <th>5</th>\n",
              "      <td>ExtraTreesRegressor</td>\n",
              "      <td>0.756605</td>\n",
              "      <td>0.807303</td>\n",
              "      <td>0.851692</td>\n",
              "      <td>0.0413895</td>\n",
              "      <td>None</td>\n",
              "      <td>1</td>\n",
              "      <td>50</td>\n",
              "      <td>150</td>\n",
              "      <td>NaN</td>\n",
              "      <td>NaN</td>\n",
              "    </tr>\n",
              "    <tr>\n",
              "      <th>3</th>\n",
              "      <td>ExtraTreesRegressor</td>\n",
              "      <td>0.75735</td>\n",
              "      <td>0.806921</td>\n",
              "      <td>0.848886</td>\n",
              "      <td>0.040391</td>\n",
              "      <td>None</td>\n",
              "      <td>1</td>\n",
              "      <td>50</td>\n",
              "      <td>100</td>\n",
              "      <td>NaN</td>\n",
              "      <td>NaN</td>\n",
              "    </tr>\n",
              "    <tr>\n",
              "      <th>27</th>\n",
              "      <td>ExtraTreesRegressor</td>\n",
              "      <td>0.75735</td>\n",
              "      <td>0.806897</td>\n",
              "      <td>0.848803</td>\n",
              "      <td>0.0403666</td>\n",
              "      <td>15</td>\n",
              "      <td>1</td>\n",
              "      <td>50</td>\n",
              "      <td>100</td>\n",
              "      <td>NaN</td>\n",
              "      <td>NaN</td>\n",
              "    </tr>\n",
              "    <tr>\n",
              "      <th>128</th>\n",
              "      <td>GradientBoostingRegressor</td>\n",
              "      <td>0.753971</td>\n",
              "      <td>0.806255</td>\n",
              "      <td>0.844842</td>\n",
              "      <td>0.0354699</td>\n",
              "      <td>3</td>\n",
              "      <td>50</td>\n",
              "      <td>2</td>\n",
              "      <td>50</td>\n",
              "      <td>50</td>\n",
              "      <td>0.1</td>\n",
              "    </tr>\n",
              "    <tr>\n",
              "      <th>131</th>\n",
              "      <td>GradientBoostingRegressor</td>\n",
              "      <td>0.753971</td>\n",
              "      <td>0.806255</td>\n",
              "      <td>0.844842</td>\n",
              "      <td>0.0354699</td>\n",
              "      <td>3</td>\n",
              "      <td>50</td>\n",
              "      <td>50</td>\n",
              "      <td>50</td>\n",
              "      <td>50</td>\n",
              "      <td>0.1</td>\n",
              "    </tr>\n",
              "    <tr>\n",
              "      <th>116</th>\n",
              "      <td>GradientBoostingRegressor</td>\n",
              "      <td>0.753971</td>\n",
              "      <td>0.806255</td>\n",
              "      <td>0.844842</td>\n",
              "      <td>0.0354699</td>\n",
              "      <td>3</td>\n",
              "      <td>50</td>\n",
              "      <td>2</td>\n",
              "      <td>50</td>\n",
              "      <td>None</td>\n",
              "      <td>0.1</td>\n",
              "    </tr>\n",
              "    <tr>\n",
              "      <th>119</th>\n",
              "      <td>GradientBoostingRegressor</td>\n",
              "      <td>0.753971</td>\n",
              "      <td>0.806255</td>\n",
              "      <td>0.844842</td>\n",
              "      <td>0.0354699</td>\n",
              "      <td>3</td>\n",
              "      <td>50</td>\n",
              "      <td>50</td>\n",
              "      <td>50</td>\n",
              "      <td>None</td>\n",
              "      <td>0.1</td>\n",
              "    </tr>\n",
              "    <tr>\n",
              "      <th>25</th>\n",
              "      <td>ExtraTreesRegressor</td>\n",
              "      <td>0.680402</td>\n",
              "      <td>0.805879</td>\n",
              "      <td>0.878606</td>\n",
              "      <td>0.0738354</td>\n",
              "      <td>15</td>\n",
              "      <td>1</td>\n",
              "      <td>2</td>\n",
              "      <td>50</td>\n",
              "      <td>NaN</td>\n",
              "      <td>NaN</td>\n",
              "    </tr>\n",
              "    <tr>\n",
              "      <th>1</th>\n",
              "      <td>ExtraTreesRegressor</td>\n",
              "      <td>0.677885</td>\n",
              "      <td>0.805665</td>\n",
              "      <td>0.873585</td>\n",
              "      <td>0.0712501</td>\n",
              "      <td>None</td>\n",
              "      <td>1</td>\n",
              "      <td>2</td>\n",
              "      <td>50</td>\n",
              "      <td>NaN</td>\n",
              "      <td>NaN</td>\n",
              "    </tr>\n",
              "    <tr>\n",
              "      <th>0</th>\n",
              "      <td>ExtraTreesRegressor</td>\n",
              "      <td>0.674397</td>\n",
              "      <td>0.805334</td>\n",
              "      <td>0.872805</td>\n",
              "      <td>0.0733644</td>\n",
              "      <td>None</td>\n",
              "      <td>1</td>\n",
              "      <td>2</td>\n",
              "      <td>100</td>\n",
              "      <td>NaN</td>\n",
              "      <td>NaN</td>\n",
              "    </tr>\n",
              "    <tr>\n",
              "      <th>4</th>\n",
              "      <td>ExtraTreesRegressor</td>\n",
              "      <td>0.753597</td>\n",
              "      <td>0.804642</td>\n",
              "      <td>0.8456</td>\n",
              "      <td>0.0403499</td>\n",
              "      <td>None</td>\n",
              "      <td>1</td>\n",
              "      <td>50</td>\n",
              "      <td>50</td>\n",
              "      <td>NaN</td>\n",
              "      <td>NaN</td>\n",
              "    </tr>\n",
              "    <tr>\n",
              "      <th>28</th>\n",
              "      <td>ExtraTreesRegressor</td>\n",
              "      <td>0.753597</td>\n",
              "      <td>0.804629</td>\n",
              "      <td>0.845534</td>\n",
              "      <td>0.0403364</td>\n",
              "      <td>15</td>\n",
              "      <td>1</td>\n",
              "      <td>50</td>\n",
              "      <td>50</td>\n",
              "      <td>NaN</td>\n",
              "      <td>NaN</td>\n",
              "    </tr>\n",
              "    <tr>\n",
              "      <th>155</th>\n",
              "      <td>GradientBoostingRegressor</td>\n",
              "      <td>0.748947</td>\n",
              "      <td>0.802814</td>\n",
              "      <td>0.846075</td>\n",
              "      <td>0.0374333</td>\n",
              "      <td>15</td>\n",
              "      <td>50</td>\n",
              "      <td>50</td>\n",
              "      <td>50</td>\n",
              "      <td>50</td>\n",
              "      <td>0.1</td>\n",
              "    </tr>\n",
              "    <tr>\n",
              "      <th>143</th>\n",
              "      <td>GradientBoostingRegressor</td>\n",
              "      <td>0.748947</td>\n",
              "      <td>0.802814</td>\n",
              "      <td>0.846075</td>\n",
              "      <td>0.0374333</td>\n",
              "      <td>15</td>\n",
              "      <td>50</td>\n",
              "      <td>50</td>\n",
              "      <td>50</td>\n",
              "      <td>None</td>\n",
              "      <td>0.1</td>\n",
              "    </tr>\n",
              "    <tr>\n",
              "      <th>164</th>\n",
              "      <td>GradientBoostingRegressor</td>\n",
              "      <td>0.748947</td>\n",
              "      <td>0.802814</td>\n",
              "      <td>0.846075</td>\n",
              "      <td>0.0374333</td>\n",
              "      <td>None</td>\n",
              "      <td>50</td>\n",
              "      <td>2</td>\n",
              "      <td>50</td>\n",
              "      <td>None</td>\n",
              "      <td>0.1</td>\n",
              "    </tr>\n",
              "    <tr>\n",
              "      <th>152</th>\n",
              "      <td>GradientBoostingRegressor</td>\n",
              "      <td>0.748947</td>\n",
              "      <td>0.802814</td>\n",
              "      <td>0.846075</td>\n",
              "      <td>0.0374333</td>\n",
              "      <td>15</td>\n",
              "      <td>50</td>\n",
              "      <td>2</td>\n",
              "      <td>50</td>\n",
              "      <td>50</td>\n",
              "      <td>0.1</td>\n",
              "    </tr>\n",
              "    <tr>\n",
              "      <th>179</th>\n",
              "      <td>GradientBoostingRegressor</td>\n",
              "      <td>0.748947</td>\n",
              "      <td>0.802814</td>\n",
              "      <td>0.846075</td>\n",
              "      <td>0.0374333</td>\n",
              "      <td>None</td>\n",
              "      <td>50</td>\n",
              "      <td>50</td>\n",
              "      <td>50</td>\n",
              "      <td>50</td>\n",
              "      <td>0.1</td>\n",
              "    </tr>\n",
              "    <tr>\n",
              "      <th>167</th>\n",
              "      <td>GradientBoostingRegressor</td>\n",
              "      <td>0.748947</td>\n",
              "      <td>0.802814</td>\n",
              "      <td>0.846075</td>\n",
              "      <td>0.0374333</td>\n",
              "      <td>None</td>\n",
              "      <td>50</td>\n",
              "      <td>50</td>\n",
              "      <td>50</td>\n",
              "      <td>None</td>\n",
              "      <td>0.1</td>\n",
              "    </tr>\n",
              "    <tr>\n",
              "      <th>140</th>\n",
              "      <td>GradientBoostingRegressor</td>\n",
              "      <td>0.748947</td>\n",
              "      <td>0.802814</td>\n",
              "      <td>0.846075</td>\n",
              "      <td>0.0374333</td>\n",
              "      <td>15</td>\n",
              "      <td>50</td>\n",
              "      <td>2</td>\n",
              "      <td>50</td>\n",
              "      <td>None</td>\n",
              "      <td>0.1</td>\n",
              "    </tr>\n",
              "    <tr>\n",
              "      <th>176</th>\n",
              "      <td>GradientBoostingRegressor</td>\n",
              "      <td>0.748947</td>\n",
              "      <td>0.802814</td>\n",
              "      <td>0.846075</td>\n",
              "      <td>0.0374333</td>\n",
              "      <td>None</td>\n",
              "      <td>50</td>\n",
              "      <td>2</td>\n",
              "      <td>50</td>\n",
              "      <td>50</td>\n",
              "      <td>0.1</td>\n",
              "    </tr>\n",
              "    <tr>\n",
              "      <th>96</th>\n",
              "      <td>RandomForestRegressor</td>\n",
              "      <td>0.663512</td>\n",
              "      <td>0.796501</td>\n",
              "      <td>0.853338</td>\n",
              "      <td>0.0720904</td>\n",
              "      <td>15</td>\n",
              "      <td>1</td>\n",
              "      <td>2</td>\n",
              "      <td>100</td>\n",
              "      <td>50</td>\n",
              "      <td>NaN</td>\n",
              "    </tr>\n",
              "    <tr>\n",
              "      <th>48</th>\n",
              "      <td>RandomForestRegressor</td>\n",
              "      <td>0.663512</td>\n",
              "      <td>0.796501</td>\n",
              "      <td>0.853338</td>\n",
              "      <td>0.0720904</td>\n",
              "      <td>None</td>\n",
              "      <td>1</td>\n",
              "      <td>2</td>\n",
              "      <td>100</td>\n",
              "      <td>50</td>\n",
              "      <td>NaN</td>\n",
              "    </tr>\n",
              "  </tbody>\n",
              "</table>\n",
              "</div>"
            ],
            "text/plain": [
              "                     estimator min_score mean_score max_score  std_score  \\\n",
              "132  GradientBoostingRegressor   0.76362    0.81304  0.851956  0.0321198   \n",
              "129  GradientBoostingRegressor   0.76362    0.81304  0.851956  0.0321198   \n",
              "117  GradientBoostingRegressor   0.76362    0.81304  0.851956  0.0321198   \n",
              "120  GradientBoostingRegressor   0.76362    0.81304  0.851956  0.0321198   \n",
              "115  GradientBoostingRegressor  0.762197   0.812875  0.850881  0.0324312   \n",
              "118  GradientBoostingRegressor  0.762197   0.812875  0.850881  0.0324312   \n",
              "130  GradientBoostingRegressor  0.762197   0.812875  0.850881  0.0324312   \n",
              "127  GradientBoostingRegressor  0.762197   0.812875  0.850881  0.0324312   \n",
              "177  GradientBoostingRegressor  0.758101   0.811575  0.855133   0.034728   \n",
              "168  GradientBoostingRegressor  0.758101   0.811575  0.855133   0.034728   \n",
              "156  GradientBoostingRegressor  0.758101   0.811575  0.855133   0.034728   \n",
              "153  GradientBoostingRegressor  0.758101   0.811575  0.855133   0.034728   \n",
              "144  GradientBoostingRegressor  0.758101   0.811575  0.855133   0.034728   \n",
              "180  GradientBoostingRegressor  0.758101   0.811575  0.855133   0.034728   \n",
              "165  GradientBoostingRegressor  0.758101   0.811575  0.855133   0.034728   \n",
              "141  GradientBoostingRegressor  0.758101   0.811575  0.855133   0.034728   \n",
              "178  GradientBoostingRegressor  0.757085   0.810912  0.853991  0.0354159   \n",
              "139  GradientBoostingRegressor  0.757085   0.810912  0.853991  0.0354159   \n",
              "175  GradientBoostingRegressor  0.757085   0.810912  0.853991  0.0354159   \n",
              "166  GradientBoostingRegressor  0.757085   0.810912  0.853991  0.0354159   \n",
              "142  GradientBoostingRegressor  0.757085   0.810912  0.853991  0.0354159   \n",
              "151  GradientBoostingRegressor  0.757085   0.810912  0.853991  0.0354159   \n",
              "163  GradientBoostingRegressor  0.757085   0.810912  0.853991  0.0354159   \n",
              "154  GradientBoostingRegressor  0.757085   0.810912  0.853991  0.0354159   \n",
              "24         ExtraTreesRegressor  0.690575   0.810316  0.879486  0.0689263   \n",
              "26         ExtraTreesRegressor  0.687301   0.809179  0.877389   0.070384   \n",
              "2          ExtraTreesRegressor  0.680784   0.809017   0.87493  0.0716566   \n",
              "29         ExtraTreesRegressor  0.756619   0.807322  0.851644  0.0413985   \n",
              "5          ExtraTreesRegressor  0.756605   0.807303  0.851692  0.0413895   \n",
              "3          ExtraTreesRegressor   0.75735   0.806921  0.848886   0.040391   \n",
              "27         ExtraTreesRegressor   0.75735   0.806897  0.848803  0.0403666   \n",
              "128  GradientBoostingRegressor  0.753971   0.806255  0.844842  0.0354699   \n",
              "131  GradientBoostingRegressor  0.753971   0.806255  0.844842  0.0354699   \n",
              "116  GradientBoostingRegressor  0.753971   0.806255  0.844842  0.0354699   \n",
              "119  GradientBoostingRegressor  0.753971   0.806255  0.844842  0.0354699   \n",
              "25         ExtraTreesRegressor  0.680402   0.805879  0.878606  0.0738354   \n",
              "1          ExtraTreesRegressor  0.677885   0.805665  0.873585  0.0712501   \n",
              "0          ExtraTreesRegressor  0.674397   0.805334  0.872805  0.0733644   \n",
              "4          ExtraTreesRegressor  0.753597   0.804642    0.8456  0.0403499   \n",
              "28         ExtraTreesRegressor  0.753597   0.804629  0.845534  0.0403364   \n",
              "155  GradientBoostingRegressor  0.748947   0.802814  0.846075  0.0374333   \n",
              "143  GradientBoostingRegressor  0.748947   0.802814  0.846075  0.0374333   \n",
              "164  GradientBoostingRegressor  0.748947   0.802814  0.846075  0.0374333   \n",
              "152  GradientBoostingRegressor  0.748947   0.802814  0.846075  0.0374333   \n",
              "179  GradientBoostingRegressor  0.748947   0.802814  0.846075  0.0374333   \n",
              "167  GradientBoostingRegressor  0.748947   0.802814  0.846075  0.0374333   \n",
              "140  GradientBoostingRegressor  0.748947   0.802814  0.846075  0.0374333   \n",
              "176  GradientBoostingRegressor  0.748947   0.802814  0.846075  0.0374333   \n",
              "96       RandomForestRegressor  0.663512   0.796501  0.853338  0.0720904   \n",
              "48       RandomForestRegressor  0.663512   0.796501  0.853338  0.0720904   \n",
              "\n",
              "    model__max_depth model__min_samples_leaf model__min_samples_split  \\\n",
              "132                3                      50                       50   \n",
              "129                3                      50                        2   \n",
              "117                3                      50                        2   \n",
              "120                3                      50                       50   \n",
              "115                3                      50                        2   \n",
              "118                3                      50                       50   \n",
              "130                3                      50                       50   \n",
              "127                3                      50                        2   \n",
              "177             None                      50                        2   \n",
              "168             None                      50                       50   \n",
              "156               15                      50                       50   \n",
              "153               15                      50                        2   \n",
              "144               15                      50                       50   \n",
              "180             None                      50                       50   \n",
              "165             None                      50                        2   \n",
              "141               15                      50                        2   \n",
              "178             None                      50                       50   \n",
              "139               15                      50                        2   \n",
              "175             None                      50                        2   \n",
              "166             None                      50                       50   \n",
              "142               15                      50                       50   \n",
              "151               15                      50                        2   \n",
              "163             None                      50                        2   \n",
              "154               15                      50                       50   \n",
              "24                15                       1                        2   \n",
              "26                15                       1                        2   \n",
              "2               None                       1                        2   \n",
              "29                15                       1                       50   \n",
              "5               None                       1                       50   \n",
              "3               None                       1                       50   \n",
              "27                15                       1                       50   \n",
              "128                3                      50                        2   \n",
              "131                3                      50                       50   \n",
              "116                3                      50                        2   \n",
              "119                3                      50                       50   \n",
              "25                15                       1                        2   \n",
              "1               None                       1                        2   \n",
              "0               None                       1                        2   \n",
              "4               None                       1                       50   \n",
              "28                15                       1                       50   \n",
              "155               15                      50                       50   \n",
              "143               15                      50                       50   \n",
              "164             None                      50                        2   \n",
              "152               15                      50                        2   \n",
              "179             None                      50                       50   \n",
              "167             None                      50                       50   \n",
              "140               15                      50                        2   \n",
              "176             None                      50                        2   \n",
              "96                15                       1                        2   \n",
              "48              None                       1                        2   \n",
              "\n",
              "    model__n_estimators model__max_leaf_nodes model__learning_rate  \n",
              "132                 140                    50                  0.1  \n",
              "129                 140                    50                  0.1  \n",
              "117                 140                  None                  0.1  \n",
              "120                 140                  None                  0.1  \n",
              "115                 100                  None                  0.1  \n",
              "118                 100                  None                  0.1  \n",
              "130                 100                    50                  0.1  \n",
              "127                 100                    50                  0.1  \n",
              "177                 140                    50                  0.1  \n",
              "168                 140                  None                  0.1  \n",
              "156                 140                    50                  0.1  \n",
              "153                 140                    50                  0.1  \n",
              "144                 140                  None                  0.1  \n",
              "180                 140                    50                  0.1  \n",
              "165                 140                  None                  0.1  \n",
              "141                 140                  None                  0.1  \n",
              "178                 100                    50                  0.1  \n",
              "139                 100                  None                  0.1  \n",
              "175                 100                    50                  0.1  \n",
              "166                 100                  None                  0.1  \n",
              "142                 100                  None                  0.1  \n",
              "151                 100                    50                  0.1  \n",
              "163                 100                  None                  0.1  \n",
              "154                 100                    50                  0.1  \n",
              "24                  100                   NaN                  NaN  \n",
              "26                  150                   NaN                  NaN  \n",
              "2                   150                   NaN                  NaN  \n",
              "29                  150                   NaN                  NaN  \n",
              "5                   150                   NaN                  NaN  \n",
              "3                   100                   NaN                  NaN  \n",
              "27                  100                   NaN                  NaN  \n",
              "128                  50                    50                  0.1  \n",
              "131                  50                    50                  0.1  \n",
              "116                  50                  None                  0.1  \n",
              "119                  50                  None                  0.1  \n",
              "25                   50                   NaN                  NaN  \n",
              "1                    50                   NaN                  NaN  \n",
              "0                   100                   NaN                  NaN  \n",
              "4                    50                   NaN                  NaN  \n",
              "28                   50                   NaN                  NaN  \n",
              "155                  50                    50                  0.1  \n",
              "143                  50                  None                  0.1  \n",
              "164                  50                  None                  0.1  \n",
              "152                  50                    50                  0.1  \n",
              "179                  50                    50                  0.1  \n",
              "167                  50                  None                  0.1  \n",
              "140                  50                  None                  0.1  \n",
              "176                  50                    50                  0.1  \n",
              "96                  100                    50                  NaN  \n",
              "48                  100                    50                  NaN  "
            ]
          },
          "execution_count": 16,
          "metadata": {},
          "output_type": "execute_result"
        }
      ],
      "source": [
        "grid_search_summary, grid_search_pipelines = search.score_summary(sort_by='mean_score')\n",
        "grid_search_summary.head(50)"
      ]
    },
    {
      "cell_type": "markdown",
      "metadata": {
        "id": "DWryh7BlA2df"
      },
      "source": [
        "### We look at all four algoritms"
      ]
    },
    {
      "cell_type": "markdown",
      "metadata": {},
      "source": [
        "### 1. GradientBoostingRegressor"
      ]
    },
    {
      "cell_type": "code",
      "execution_count": 17,
      "metadata": {
        "id": "QVWEmpSuA4C7"
      },
      "outputs": [
        {
          "data": {
            "text/plain": [
              "'GradientBoostingRegressor'"
            ]
          },
          "execution_count": 17,
          "metadata": {},
          "output_type": "execute_result"
        }
      ],
      "source": [
        "best_model = grid_search_summary.iloc[0,0]\n",
        "best_model"
      ]
    },
    {
      "cell_type": "markdown",
      "metadata": {
        "id": "7_jvnR4sZ8km"
      },
      "source": [
        "Access best model parameters"
      ]
    },
    {
      "cell_type": "code",
      "execution_count": 18,
      "metadata": {
        "id": "2my-LZFzZ-YD"
      },
      "outputs": [
        {
          "data": {
            "text/plain": [
              "{'model__learning_rate': 0.1,\n",
              " 'model__max_depth': 3,\n",
              " 'model__max_leaf_nodes': None,\n",
              " 'model__min_samples_leaf': 50,\n",
              " 'model__min_samples_split': 2,\n",
              " 'model__n_estimators': 140}"
            ]
          },
          "execution_count": 18,
          "metadata": {},
          "output_type": "execute_result"
        }
      ],
      "source": [
        "grid_search_pipelines[best_model].best_params_"
      ]
    },
    {
      "cell_type": "markdown",
      "metadata": {
        "id": "DgWXlprwaAW-"
      },
      "source": [
        "Access best pipeline"
      ]
    },
    {
      "cell_type": "code",
      "execution_count": 19,
      "metadata": {
        "id": "0OZ24jS0aAfP"
      },
      "outputs": [
        {
          "data": {
            "text/plain": [
              "Pipeline(steps=[('drop_features',\n",
              "                 DropFeatures(features_to_drop=['EnclosedPorch',\n",
              "                                                'WoodDeckSF'])),\n",
              "                ('custom_encoder',\n",
              "                 MyCustomEncoder(dic={'BsmtExposure': {'Av': 3, 'Gd': 4,\n",
              "                                                       'Mn': 2, 'No': 1,\n",
              "                                                       'None': 0},\n",
              "                                      'BsmtFinType1': {'ALQ': 5, 'BLQ': 4,\n",
              "                                                       'GLQ': 6, 'LwQ': 2,\n",
              "                                                       'None': 0, 'Rec': 3,\n",
              "                                                       'Unf': 1},\n",
              "                                      'GarageFinish': {'Fin': 3, 'None': 0,\n",
              "                                                       'RFn': 2, 'Unf': 1},\n",
              "                                      'KitchenQual': {'Ex': 4, 'Fa': 1, 'Gd': 3,\n",
              "                                                      '...\n",
              "                                                     'TotalBsmtSF', 'YearBuilt',\n",
              "                                                     'YearRemodAdd'])),\n",
              "                ('pt',\n",
              "                 PowerTransformer(variables=['BsmtUnfSF', 'OpenPorchSF'])),\n",
              "                ('log', LogTransformer(variables=['GrLivArea'])),\n",
              "                ('feat_scaling', StandardScaler()),\n",
              "                ('feat_selection',\n",
              "                 SelectFromModel(estimator=GradientBoostingRegressor(random_state=0))),\n",
              "                ('model',\n",
              "                 GradientBoostingRegressor(min_samples_leaf=50,\n",
              "                                           n_estimators=140, random_state=0))])"
            ]
          },
          "execution_count": 19,
          "metadata": {},
          "output_type": "execute_result"
        }
      ],
      "source": [
        "best_regressor_pipeline = grid_search_pipelines[best_model].best_estimator_\n",
        "best_regressor_pipeline"
      ]
    },
    {
      "cell_type": "markdown",
      "metadata": {
        "id": "I9uT2XmaKISR"
      },
      "source": [
        "## Assess feature importance\n",
        "Code from Code Institute Scikit lesson"
      ]
    },
    {
      "cell_type": "code",
      "execution_count": 20,
      "metadata": {
        "id": "-m6NUUa0KFQX"
      },
      "outputs": [
        {
          "name": "stdout",
          "output_type": "stream",
          "text": [
            "* These are the 3 most important features in descending order. The model was trained on them: \n",
            "['OverallQual', 'GrLivArea', 'TotalBsmtSF']\n"
          ]
        },
        {
          "data": {
            "image/png": "[encoded data removed]",
            "text/plain": [
              "<Figure size 432x288 with 1 Axes>"
            ]
          },
          "metadata": {},
          "output_type": "display_data"
        }
      ],
      "source": [
        "import matplotlib.pyplot as plt\n",
        "import seaborn as sns\n",
        "sns.set_style('whitegrid')\n",
        "\n",
        "# after data cleaning and feat engine, the feature may space changes\n",
        "data_cleaning_feat_eng_steps = 4 # how many data cleaning and feature engineering does your pipeline have?\n",
        "columns_after_data_cleaning_feat_eng = (Pipeline(best_regressor_pipeline.steps[:data_cleaning_feat_eng_steps])\n",
        "                                        .transform(X_train)\n",
        "                                        .columns)\n",
        "\n",
        "best_features = columns_after_data_cleaning_feat_eng[best_regressor_pipeline['feat_selection'].get_support()].to_list()\n",
        "best_features\n",
        "\n",
        "# create DataFrame to display feature importance\n",
        "df_feature_importance = (pd.DataFrame(data={\n",
        "          'Feature': columns_after_data_cleaning_feat_eng[best_regressor_pipeline['feat_selection'].get_support()],\n",
        "          'Importance': best_regressor_pipeline['model'].feature_importances_})\n",
        "  .sort_values(by='Importance', ascending=False)\n",
        "  )\n",
        "\n",
        "# Most important features statement and plot\n",
        "print(f\"* These are the {len(best_features)} most important features in descending order. \"\n",
        "      f\"The model was trained on them: \\n{df_feature_importance['Feature'].to_list()}\")\n",
        "\n",
        "df_feature_importance.plot(kind='bar',x='Feature',y='Importance')\n",
        "plt.show()"
      ]
    },
    {
      "cell_type": "markdown",
      "metadata": {
        "id": "QzNyQirSKJj6"
      },
      "source": [
        "## Evaluate on Train and Test Sets\n",
        "Code from Code Institute Scikit lesson"
      ]
    },
    {
      "cell_type": "code",
      "execution_count": 21,
      "metadata": {
        "id": "5pBm_vx8BO9s"
      },
      "outputs": [],
      "source": [
        "from sklearn.metrics import r2_score, mean_squared_error, mean_absolute_error \n",
        "import numpy as np\n",
        "\n",
        "def regression_performance(X_train, y_train, X_test, y_test,pipeline):\n",
        "\tprint(\"Model Evaluation \\n\")\n",
        "\tprint(\"* Train Set\")\n",
        "\tregression_evaluation(X_train,y_train,pipeline)\n",
        "\tprint(\"* Test Set\")\n",
        "\tregression_evaluation(X_test,y_test,pipeline)\n",
        "\n",
        "def regression_evaluation(X,y,pipeline):\n",
        "  prediction = pipeline.predict(X)\n",
        "  print('R2 Score:', r2_score(y, prediction).round(3))  \n",
        "  print('Mean Absolute Error:', mean_absolute_error(y, prediction).round(3))  \n",
        "  print('Mean Squared Error:', mean_squared_error(y, prediction).round(3))  \n",
        "  print('Root Mean Squared Error:', np.sqrt(mean_squared_error(y, prediction)).round(3))\n",
        "  print(\"\\n\")\n",
        "\n",
        "\n",
        "def regression_evaluation_plots(X_train, y_train, X_test, y_test,pipeline, alpha_scatter=0.5):\n",
        "  pred_train = pipeline.predict(X_train)\n",
        "  pred_test = pipeline.predict(X_test)\n",
        "\n",
        "\n",
        "  fig, axes = plt.subplots(nrows=1, ncols=2, figsize=(12,6))\n",
        "  sns.scatterplot(x=y_train , y=pred_train, alpha=alpha_scatter, ax=axes[0])\n",
        "  sns.lineplot(x=y_train , y=y_train, color='red', ax=axes[0])\n",
        "  axes[0].set_xlabel(\"Actual\")\n",
        "  axes[0].tick_params(axis='x', rotation=90)\n",
        "  axes[0].set_ylabel(\"Predictions\")\n",
        "  axes[0].set_title(\"Train Set\")\n",
        "\n",
        "  sns.scatterplot(x=y_test , y=pred_test, alpha=alpha_scatter, ax=axes[1])\n",
        "  sns.lineplot(x=y_test , y=y_test, color='red', ax=axes[1])\n",
        "  axes[1].set_xlabel(\"Actual\")\n",
        "  axes[1].tick_params(axis='x', rotation=90)\n",
        "  axes[1].set_ylabel(\"Predictions\")\n",
        "  axes[1].set_title(\"Test Set\")\n",
        "\n",
        "  plt.show()"
      ]
    },
    {
      "cell_type": "markdown",
      "metadata": {
        "id": "tV-W5nYyBPdk"
      },
      "source": [
        "### Evaluate Performance"
      ]
    },
    {
      "cell_type": "code",
      "execution_count": 22,
      "metadata": {
        "id": "EgBgrKJ5KFcX"
      },
      "outputs": [
        {
          "name": "stdout",
          "output_type": "stream",
          "text": [
            "Model Evaluation \n",
            "\n",
            "* Train Set\n",
            "R2 Score: 0.834\n",
            "Mean Absolute Error: 21359.496\n",
            "Mean Squared Error: 1024460750.793\n",
            "Root Mean Squared Error: 32007.198\n",
            "\n",
            "\n",
            "* Test Set\n",
            "R2 Score: 0.761\n",
            "Mean Absolute Error: 24335.071\n",
            "Mean Squared Error: 1648866814.119\n",
            "Root Mean Squared Error: 40606.241\n",
            "\n",
            "\n"
          ]
        },
        {
          "data": {
            "image/png": "[encoded data removed]",
            "text/plain": [
              "<Figure size 864x432 with 2 Axes>"
            ]
          },
          "metadata": {},
          "output_type": "display_data"
        }
      ],
      "source": [
        "import numpy as np\n",
        "\n",
        "regression_performance(X_train, y_train, X_test, y_test, best_regressor_pipeline)\n",
        "regression_evaluation_plots(X_train, y_train, X_test, y_test, best_regressor_pipeline)"
      ]
    },
    {
      "cell_type": "markdown",
      "metadata": {},
      "source": [
        "### The R2 score on the test set is 0.76. It passes the performance goal of an R2 score of at least 0.75 but the model does not predict sale prices above $457199 which is unnatural."
      ]
    },
    {
      "cell_type": "markdown",
      "metadata": {},
      "source": [
        "### 2. ExtraTreesRegressor"
      ]
    },
    {
      "cell_type": "code",
      "execution_count": 23,
      "metadata": {
        "id": "QVWEmpSuA4C7"
      },
      "outputs": [
        {
          "data": {
            "text/plain": [
              "'ExtraTreesRegressor'"
            ]
          },
          "execution_count": 23,
          "metadata": {},
          "output_type": "execute_result"
        }
      ],
      "source": [
        "best_model = grid_search_summary.iloc[24,0]\n",
        "best_model"
      ]
    },
    {
      "cell_type": "markdown",
      "metadata": {
        "id": "7_jvnR4sZ8km"
      },
      "source": [
        "Access best model parameters"
      ]
    },
    {
      "cell_type": "code",
      "execution_count": 24,
      "metadata": {
        "id": "2my-LZFzZ-YD"
      },
      "outputs": [
        {
          "data": {
            "text/plain": [
              "{'model__max_depth': 15,\n",
              " 'model__min_samples_leaf': 1,\n",
              " 'model__min_samples_split': 2,\n",
              " 'model__n_estimators': 100}"
            ]
          },
          "execution_count": 24,
          "metadata": {},
          "output_type": "execute_result"
        }
      ],
      "source": [
        "grid_search_pipelines[best_model].best_params_"
      ]
    },
    {
      "cell_type": "markdown",
      "metadata": {
        "id": "DgWXlprwaAW-"
      },
      "source": [
        "Access best pipeline"
      ]
    },
    {
      "cell_type": "code",
      "execution_count": 25,
      "metadata": {
        "id": "0OZ24jS0aAfP"
      },
      "outputs": [
        {
          "data": {
            "text/plain": [
              "Pipeline(steps=[('drop_features',\n",
              "                 DropFeatures(features_to_drop=['EnclosedPorch',\n",
              "                                                'WoodDeckSF'])),\n",
              "                ('custom_encoder',\n",
              "                 MyCustomEncoder(dic={'BsmtExposure': {'Av': 3, 'Gd': 4,\n",
              "                                                       'Mn': 2, 'No': 1,\n",
              "                                                       'None': 0},\n",
              "                                      'BsmtFinType1': {'ALQ': 5, 'BLQ': 4,\n",
              "                                                       'GLQ': 6, 'LwQ': 2,\n",
              "                                                       'None': 0, 'Rec': 3,\n",
              "                                                       'Unf': 1},\n",
              "                                      'GarageFinish': {'Fin': 3, 'None': 0,\n",
              "                                                       'RFn': 2, 'Unf': 1},\n",
              "                                      'KitchenQual': {'Ex': 4, 'Fa': 1, 'Gd': 3,\n",
              "                                                      '...\n",
              "                                                     'OverallCond',\n",
              "                                                     'OverallQual',\n",
              "                                                     'TotalBsmtSF', 'YearBuilt',\n",
              "                                                     'YearRemodAdd'])),\n",
              "                ('pt',\n",
              "                 PowerTransformer(variables=['BsmtUnfSF', 'OpenPorchSF'])),\n",
              "                ('log', LogTransformer(variables=['GrLivArea'])),\n",
              "                ('feat_scaling', StandardScaler()),\n",
              "                ('feat_selection',\n",
              "                 SelectFromModel(estimator=ExtraTreesRegressor(random_state=0))),\n",
              "                ('model', ExtraTreesRegressor(max_depth=15, random_state=0))])"
            ]
          },
          "execution_count": 25,
          "metadata": {},
          "output_type": "execute_result"
        }
      ],
      "source": [
        "best_regressor_pipeline = grid_search_pipelines[best_model].best_estimator_\n",
        "best_regressor_pipeline"
      ]
    },
    {
      "cell_type": "markdown",
      "metadata": {
        "id": "I9uT2XmaKISR"
      },
      "source": [
        "## Assess feature importance\n",
        "Code from Code Institute Scikit lesson"
      ]
    },
    {
      "cell_type": "code",
      "execution_count": 26,
      "metadata": {
        "id": "-m6NUUa0KFQX"
      },
      "outputs": [
        {
          "name": "stdout",
          "output_type": "stream",
          "text": [
            "* These are the 4 most important features in descending order. The model was trained on them: \n",
            "['OverallQual', 'GrLivArea', 'GarageArea', 'YearBuilt']\n"
          ]
        },
        {
          "data": {
            "image/png": "[encoded data removed]",
            "text/plain": [
              "<Figure size 432x288 with 1 Axes>"
            ]
          },
          "metadata": {},
          "output_type": "display_data"
        }
      ],
      "source": [
        "import matplotlib.pyplot as plt\n",
        "import seaborn as sns\n",
        "sns.set_style('whitegrid')\n",
        "\n",
        "# after data cleaning and feat engine, the feature may space changes\n",
        "data_cleaning_feat_eng_steps = 4 # how many data cleaning and feature engineering does your pipeline have?\n",
        "columns_after_data_cleaning_feat_eng = (Pipeline(best_regressor_pipeline.steps[:data_cleaning_feat_eng_steps])\n",
        "                                        .transform(X_train)\n",
        "                                        .columns)\n",
        "\n",
        "best_features = columns_after_data_cleaning_feat_eng[best_regressor_pipeline['feat_selection'].get_support()].to_list()\n",
        "best_features\n",
        "\n",
        "# create DataFrame to display feature importance\n",
        "df_feature_importance = (pd.DataFrame(data={\n",
        "          'Feature': columns_after_data_cleaning_feat_eng[best_regressor_pipeline['feat_selection'].get_support()],\n",
        "          'Importance': best_regressor_pipeline['model'].feature_importances_})\n",
        "  .sort_values(by='Importance', ascending=False)\n",
        "  )\n",
        "\n",
        "# Most important features statement and plot\n",
        "print(f\"* These are the {len(best_features)} most important features in descending order. \"\n",
        "      f\"The model was trained on them: \\n{df_feature_importance['Feature'].to_list()}\")\n",
        "\n",
        "df_feature_importance.plot(kind='bar',x='Feature',y='Importance')\n",
        "plt.show()"
      ]
    },
    {
      "cell_type": "markdown",
      "metadata": {
        "id": "QzNyQirSKJj6"
      },
      "source": [
        "## Evaluate on Train and Test Sets\n",
        "Code from Code Institute Scikit lesson"
      ]
    },
    {
      "cell_type": "markdown",
      "metadata": {
        "id": "tV-W5nYyBPdk"
      },
      "source": [
        "### Evaluate Performance"
      ]
    },
    {
      "cell_type": "code",
      "execution_count": 27,
      "metadata": {
        "id": "EgBgrKJ5KFcX"
      },
      "outputs": [
        {
          "name": "stdout",
          "output_type": "stream",
          "text": [
            "Model Evaluation \n",
            "\n",
            "* Train Set\n",
            "R2 Score: 0.996\n",
            "Mean Absolute Error: 2944.992\n",
            "Mean Squared Error: 22629243.528\n",
            "Root Mean Squared Error: 4757.02\n",
            "\n",
            "\n",
            "* Test Set\n",
            "R2 Score: 0.848\n",
            "Mean Absolute Error: 20771.777\n",
            "Mean Squared Error: 1046813174.251\n",
            "Root Mean Squared Error: 32354.492\n",
            "\n",
            "\n"
          ]
        },
        {
          "data": {
            "image/png": "[encoded data removed]",
            "text/plain": [
              "<Figure size 864x432 with 2 Axes>"
            ]
          },
          "metadata": {},
          "output_type": "display_data"
        }
      ],
      "source": [
        "regression_performance(X_train, y_train, X_test, y_test,best_regressor_pipeline)\n",
        "regression_evaluation_plots(X_train, y_train, X_test, y_test, best_regressor_pipeline)"
      ]
    },
    {
      "cell_type": "markdown",
      "metadata": {},
      "source": [
        "### The R2 score on the test set is 0.85. It passes the performance goal of 0.75 but the model looks overfitted. The algorithm trains on five features which is more than the other algorithms and is likely the reason for the overfitting."
      ]
    },
    {
      "cell_type": "markdown",
      "metadata": {},
      "source": [
        "### 3. RandomForestRegressor"
      ]
    },
    {
      "cell_type": "code",
      "execution_count": 28,
      "metadata": {
        "id": "QVWEmpSuA4C7"
      },
      "outputs": [
        {
          "data": {
            "text/plain": [
              "'RandomForestRegressor'"
            ]
          },
          "execution_count": 28,
          "metadata": {},
          "output_type": "execute_result"
        }
      ],
      "source": [
        "best_model = grid_search_summary.iloc[48,0]\n",
        "best_model"
      ]
    },
    {
      "cell_type": "markdown",
      "metadata": {
        "id": "7_jvnR4sZ8km"
      },
      "source": [
        "Access best model parameters"
      ]
    },
    {
      "cell_type": "code",
      "execution_count": 29,
      "metadata": {
        "id": "2my-LZFzZ-YD"
      },
      "outputs": [
        {
          "data": {
            "text/plain": [
              "{'model__max_depth': None,\n",
              " 'model__max_leaf_nodes': 50,\n",
              " 'model__min_samples_leaf': 1,\n",
              " 'model__min_samples_split': 2,\n",
              " 'model__n_estimators': 100}"
            ]
          },
          "execution_count": 29,
          "metadata": {},
          "output_type": "execute_result"
        }
      ],
      "source": [
        "grid_search_pipelines[best_model].best_params_"
      ]
    },
    {
      "cell_type": "code",
      "execution_count": 30,
      "metadata": {
        "id": "0OZ24jS0aAfP"
      },
      "outputs": [
        {
          "data": {
            "text/plain": [
              "Pipeline(steps=[('drop_features',\n",
              "                 DropFeatures(features_to_drop=['EnclosedPorch',\n",
              "                                                'WoodDeckSF'])),\n",
              "                ('custom_encoder',\n",
              "                 MyCustomEncoder(dic={'BsmtExposure': {'Av': 3, 'Gd': 4,\n",
              "                                                       'Mn': 2, 'No': 1,\n",
              "                                                       'None': 0},\n",
              "                                      'BsmtFinType1': {'ALQ': 5, 'BLQ': 4,\n",
              "                                                       'GLQ': 6, 'LwQ': 2,\n",
              "                                                       'None': 0, 'Rec': 3,\n",
              "                                                       'Unf': 1},\n",
              "                                      'GarageFinish': {'Fin': 3, 'None': 0,\n",
              "                                                       'RFn': 2, 'Unf': 1},\n",
              "                                      'KitchenQual': {'Ex': 4, 'Fa': 1, 'Gd': 3,\n",
              "                                                      '...\n",
              "                                                     'OverallQual',\n",
              "                                                     'TotalBsmtSF', 'YearBuilt',\n",
              "                                                     'YearRemodAdd'])),\n",
              "                ('pt',\n",
              "                 PowerTransformer(variables=['BsmtUnfSF', 'OpenPorchSF'])),\n",
              "                ('log', LogTransformer(variables=['GrLivArea'])),\n",
              "                ('feat_scaling', StandardScaler()),\n",
              "                ('feat_selection',\n",
              "                 SelectFromModel(estimator=RandomForestRegressor(random_state=0))),\n",
              "                ('model',\n",
              "                 RandomForestRegressor(max_leaf_nodes=50, random_state=0))])"
            ]
          },
          "execution_count": 30,
          "metadata": {},
          "output_type": "execute_result"
        }
      ],
      "source": [
        "best_regressor_pipeline = grid_search_pipelines[best_model].best_estimator_\n",
        "best_regressor_pipeline"
      ]
    },
    {
      "cell_type": "markdown",
      "metadata": {},
      "source": [
        "## Assess feature importance\n",
        "Code from Code Institute Scikit lesson"
      ]
    },
    {
      "cell_type": "code",
      "execution_count": 31,
      "metadata": {},
      "outputs": [
        {
          "name": "stdout",
          "output_type": "stream",
          "text": [
            "* These are the 2 most important features in descending order. The model was trained on them: \n",
            "['OverallQual', 'GrLivArea']\n"
          ]
        },
        {
          "data": {
            "image/png": "[encoded data removed]",
            "text/plain": [
              "<Figure size 432x288 with 1 Axes>"
            ]
          },
          "metadata": {},
          "output_type": "display_data"
        }
      ],
      "source": [
        "import matplotlib.pyplot as plt\n",
        "import seaborn as sns\n",
        "sns.set_style('whitegrid')\n",
        "\n",
        "# after data cleaning and feat engine, the feature may space changes\n",
        "data_cleaning_feat_eng_steps = 4 # how many data cleaning and feature engineering does your pipeline have?\n",
        "columns_after_data_cleaning_feat_eng = (Pipeline(best_regressor_pipeline.steps[:data_cleaning_feat_eng_steps])\n",
        "                                        .transform(X_train)\n",
        "                                        .columns)\n",
        "\n",
        "best_features = columns_after_data_cleaning_feat_eng[best_regressor_pipeline['feat_selection'].get_support()].to_list()\n",
        "best_features\n",
        "\n",
        "# create DataFrame to display feature importance\n",
        "df_feature_importance = (pd.DataFrame(data={\n",
        "          'Feature': columns_after_data_cleaning_feat_eng[best_regressor_pipeline['feat_selection'].get_support()],\n",
        "          'Importance': best_regressor_pipeline['model'].feature_importances_})\n",
        "  .sort_values(by='Importance', ascending=False)\n",
        "  )\n",
        "\n",
        "# Most important features statement and plot\n",
        "print(f\"* These are the {len(best_features)} most important features in descending order. \"\n",
        "      f\"The model was trained on them: \\n{df_feature_importance['Feature'].to_list()}\")\n",
        "\n",
        "df_feature_importance.plot(kind='bar',x='Feature',y='Importance')\n",
        "plt.show()"
      ]
    },
    {
      "cell_type": "markdown",
      "metadata": {
        "id": "tV-W5nYyBPdk"
      },
      "source": [
        "### Evaluate Performance"
      ]
    },
    {
      "cell_type": "code",
      "execution_count": 32,
      "metadata": {
        "id": "EgBgrKJ5KFcX"
      },
      "outputs": [
        {
          "name": "stdout",
          "output_type": "stream",
          "text": [
            "Model Evaluation \n",
            "\n",
            "* Train Set\n",
            "R2 Score: 0.864\n",
            "Mean Absolute Error: 21879.46\n",
            "Mean Squared Error: 840082093.12\n",
            "Root Mean Squared Error: 28984.17\n",
            "\n",
            "\n",
            "* Test Set\n",
            "R2 Score: 0.796\n",
            "Mean Absolute Error: 24290.252\n",
            "Mean Squared Error: 1408021936.115\n",
            "Root Mean Squared Error: 37523.618\n",
            "\n",
            "\n"
          ]
        },
        {
          "data": {
            "image/png": "[encoded data removed]",
            "text/plain": [
              "<Figure size 864x432 with 2 Axes>"
            ]
          },
          "metadata": {},
          "output_type": "display_data"
        }
      ],
      "source": [
        "regression_performance(X_train, y_train, X_test, y_test,best_regressor_pipeline)\n",
        "regression_evaluation_plots(X_train, y_train, X_test, y_test, best_regressor_pipeline)"
      ]
    },
    {
      "cell_type": "markdown",
      "metadata": {},
      "source": [
        "### The R2 score on the test set is 0.8. It passes the performance goal of 0.75. It looks like the best model. The model may still have problems with prices above $400000 though, like the GradientBoostingRegressor model. "
      ]
    },
    {
      "cell_type": "markdown",
      "metadata": {},
      "source": [
        "### 4. LinearRegression\t"
      ]
    },
    {
      "cell_type": "markdown",
      "metadata": {},
      "source": [
        "### Go back to the results of the main search"
      ]
    },
    {
      "cell_type": "code",
      "execution_count": 45,
      "metadata": {},
      "outputs": [
        {
          "data": {
            "text/html": [
              "<div>\n",
              "<style scoped>\n",
              "    .dataframe tbody tr th:only-of-type {\n",
              "        vertical-align: middle;\n",
              "    }\n",
              "\n",
              "    .dataframe tbody tr th {\n",
              "        vertical-align: top;\n",
              "    }\n",
              "\n",
              "    .dataframe thead th {\n",
              "        text-align: right;\n",
              "    }\n",
              "</style>\n",
              "<table border=\"1\" class=\"dataframe\">\n",
              "  <thead>\n",
              "    <tr style=\"text-align: right;\">\n",
              "      <th></th>\n",
              "      <th>estimator</th>\n",
              "      <th>min_score</th>\n",
              "      <th>mean_score</th>\n",
              "      <th>max_score</th>\n",
              "      <th>std_score</th>\n",
              "      <th>model__max_depth</th>\n",
              "      <th>model__min_samples_leaf</th>\n",
              "      <th>model__min_samples_split</th>\n",
              "      <th>model__n_estimators</th>\n",
              "      <th>model__max_leaf_nodes</th>\n",
              "      <th>model__learning_rate</th>\n",
              "    </tr>\n",
              "  </thead>\n",
              "  <tbody>\n",
              "    <tr>\n",
              "      <th>132</th>\n",
              "      <td>GradientBoostingRegressor</td>\n",
              "      <td>0.76362</td>\n",
              "      <td>0.81304</td>\n",
              "      <td>0.851956</td>\n",
              "      <td>0.0321198</td>\n",
              "      <td>3</td>\n",
              "      <td>50</td>\n",
              "      <td>50</td>\n",
              "      <td>140</td>\n",
              "      <td>50</td>\n",
              "      <td>0.1</td>\n",
              "    </tr>\n",
              "    <tr>\n",
              "      <th>129</th>\n",
              "      <td>GradientBoostingRegressor</td>\n",
              "      <td>0.76362</td>\n",
              "      <td>0.81304</td>\n",
              "      <td>0.851956</td>\n",
              "      <td>0.0321198</td>\n",
              "      <td>3</td>\n",
              "      <td>50</td>\n",
              "      <td>2</td>\n",
              "      <td>140</td>\n",
              "      <td>50</td>\n",
              "      <td>0.1</td>\n",
              "    </tr>\n",
              "    <tr>\n",
              "      <th>117</th>\n",
              "      <td>GradientBoostingRegressor</td>\n",
              "      <td>0.76362</td>\n",
              "      <td>0.81304</td>\n",
              "      <td>0.851956</td>\n",
              "      <td>0.0321198</td>\n",
              "      <td>3</td>\n",
              "      <td>50</td>\n",
              "      <td>2</td>\n",
              "      <td>140</td>\n",
              "      <td>None</td>\n",
              "      <td>0.1</td>\n",
              "    </tr>\n",
              "    <tr>\n",
              "      <th>120</th>\n",
              "      <td>GradientBoostingRegressor</td>\n",
              "      <td>0.76362</td>\n",
              "      <td>0.81304</td>\n",
              "      <td>0.851956</td>\n",
              "      <td>0.0321198</td>\n",
              "      <td>3</td>\n",
              "      <td>50</td>\n",
              "      <td>50</td>\n",
              "      <td>140</td>\n",
              "      <td>None</td>\n",
              "      <td>0.1</td>\n",
              "    </tr>\n",
              "    <tr>\n",
              "      <th>115</th>\n",
              "      <td>GradientBoostingRegressor</td>\n",
              "      <td>0.762197</td>\n",
              "      <td>0.812875</td>\n",
              "      <td>0.850881</td>\n",
              "      <td>0.0324312</td>\n",
              "      <td>3</td>\n",
              "      <td>50</td>\n",
              "      <td>2</td>\n",
              "      <td>100</td>\n",
              "      <td>None</td>\n",
              "      <td>0.1</td>\n",
              "    </tr>\n",
              "    <tr>\n",
              "      <th>...</th>\n",
              "      <td>...</td>\n",
              "      <td>...</td>\n",
              "      <td>...</td>\n",
              "      <td>...</td>\n",
              "      <td>...</td>\n",
              "      <td>...</td>\n",
              "      <td>...</td>\n",
              "      <td>...</td>\n",
              "      <td>...</td>\n",
              "      <td>...</td>\n",
              "      <td>...</td>\n",
              "    </tr>\n",
              "    <tr>\n",
              "      <th>111</th>\n",
              "      <td>GradientBoostingRegressor</td>\n",
              "      <td>0.634989</td>\n",
              "      <td>0.757639</td>\n",
              "      <td>0.842089</td>\n",
              "      <td>0.081528</td>\n",
              "      <td>3</td>\n",
              "      <td>1</td>\n",
              "      <td>2</td>\n",
              "      <td>140</td>\n",
              "      <td>None</td>\n",
              "      <td>0.1</td>\n",
              "    </tr>\n",
              "    <tr>\n",
              "      <th>126</th>\n",
              "      <td>GradientBoostingRegressor</td>\n",
              "      <td>0.648741</td>\n",
              "      <td>0.757328</td>\n",
              "      <td>0.849679</td>\n",
              "      <td>0.0831696</td>\n",
              "      <td>3</td>\n",
              "      <td>1</td>\n",
              "      <td>50</td>\n",
              "      <td>140</td>\n",
              "      <td>50</td>\n",
              "      <td>0.1</td>\n",
              "    </tr>\n",
              "    <tr>\n",
              "      <th>108</th>\n",
              "      <td>LinearRegression</td>\n",
              "      <td>0.697861</td>\n",
              "      <td>0.748593</td>\n",
              "      <td>0.795511</td>\n",
              "      <td>0.0331303</td>\n",
              "      <td>NaN</td>\n",
              "      <td>NaN</td>\n",
              "      <td>NaN</td>\n",
              "      <td>NaN</td>\n",
              "      <td>NaN</td>\n",
              "      <td>NaN</td>\n",
              "    </tr>\n",
              "    <tr>\n",
              "      <th>149</th>\n",
              "      <td>GradientBoostingRegressor</td>\n",
              "      <td>0.616339</td>\n",
              "      <td>0.746061</td>\n",
              "      <td>0.835636</td>\n",
              "      <td>0.0799778</td>\n",
              "      <td>15</td>\n",
              "      <td>1</td>\n",
              "      <td>50</td>\n",
              "      <td>50</td>\n",
              "      <td>50</td>\n",
              "      <td>0.1</td>\n",
              "    </tr>\n",
              "    <tr>\n",
              "      <th>161</th>\n",
              "      <td>GradientBoostingRegressor</td>\n",
              "      <td>0.605251</td>\n",
              "      <td>0.741187</td>\n",
              "      <td>0.828723</td>\n",
              "      <td>0.0794348</td>\n",
              "      <td>None</td>\n",
              "      <td>1</td>\n",
              "      <td>50</td>\n",
              "      <td>50</td>\n",
              "      <td>None</td>\n",
              "      <td>0.1</td>\n",
              "    </tr>\n",
              "  </tbody>\n",
              "</table>\n",
              "<p>105 rows × 11 columns</p>\n",
              "</div>"
            ],
            "text/plain": [
              "                     estimator min_score mean_score max_score  std_score  \\\n",
              "132  GradientBoostingRegressor   0.76362    0.81304  0.851956  0.0321198   \n",
              "129  GradientBoostingRegressor   0.76362    0.81304  0.851956  0.0321198   \n",
              "117  GradientBoostingRegressor   0.76362    0.81304  0.851956  0.0321198   \n",
              "120  GradientBoostingRegressor   0.76362    0.81304  0.851956  0.0321198   \n",
              "115  GradientBoostingRegressor  0.762197   0.812875  0.850881  0.0324312   \n",
              "..                         ...       ...        ...       ...        ...   \n",
              "111  GradientBoostingRegressor  0.634989   0.757639  0.842089   0.081528   \n",
              "126  GradientBoostingRegressor  0.648741   0.757328  0.849679  0.0831696   \n",
              "108           LinearRegression  0.697861   0.748593  0.795511  0.0331303   \n",
              "149  GradientBoostingRegressor  0.616339   0.746061  0.835636  0.0799778   \n",
              "161  GradientBoostingRegressor  0.605251   0.741187  0.828723  0.0794348   \n",
              "\n",
              "    model__max_depth model__min_samples_leaf model__min_samples_split  \\\n",
              "132                3                      50                       50   \n",
              "129                3                      50                        2   \n",
              "117                3                      50                        2   \n",
              "120                3                      50                       50   \n",
              "115                3                      50                        2   \n",
              "..               ...                     ...                      ...   \n",
              "111                3                       1                        2   \n",
              "126                3                       1                       50   \n",
              "108              NaN                     NaN                      NaN   \n",
              "149               15                       1                       50   \n",
              "161             None                       1                       50   \n",
              "\n",
              "    model__n_estimators model__max_leaf_nodes model__learning_rate  \n",
              "132                 140                    50                  0.1  \n",
              "129                 140                    50                  0.1  \n",
              "117                 140                  None                  0.1  \n",
              "120                 140                  None                  0.1  \n",
              "115                 100                  None                  0.1  \n",
              "..                  ...                   ...                  ...  \n",
              "111                 140                  None                  0.1  \n",
              "126                 140                    50                  0.1  \n",
              "108                 NaN                   NaN                  NaN  \n",
              "149                  50                    50                  0.1  \n",
              "161                  50                  None                  0.1  \n",
              "\n",
              "[105 rows x 11 columns]"
            ]
          },
          "execution_count": 45,
          "metadata": {},
          "output_type": "execute_result"
        }
      ],
      "source": [
        "grid_search_summary.head(105)"
      ]
    },
    {
      "cell_type": "code",
      "execution_count": 46,
      "metadata": {
        "id": "QVWEmpSuA4C7"
      },
      "outputs": [
        {
          "data": {
            "text/plain": [
              "'LinearRegression'"
            ]
          },
          "execution_count": 46,
          "metadata": {},
          "output_type": "execute_result"
        }
      ],
      "source": [
        "best_model = grid_search_summary.iloc[102,0]\n",
        "best_model"
      ]
    },
    {
      "cell_type": "markdown",
      "metadata": {
        "id": "7_jvnR4sZ8km"
      },
      "source": [
        "Access best model parameters"
      ]
    },
    {
      "cell_type": "code",
      "execution_count": 47,
      "metadata": {
        "id": "2my-LZFzZ-YD"
      },
      "outputs": [
        {
          "data": {
            "text/plain": [
              "{}"
            ]
          },
          "execution_count": 47,
          "metadata": {},
          "output_type": "execute_result"
        }
      ],
      "source": [
        "grid_search_pipelines[best_model].best_params_"
      ]
    },
    {
      "cell_type": "code",
      "execution_count": 48,
      "metadata": {
        "id": "0OZ24jS0aAfP"
      },
      "outputs": [
        {
          "data": {
            "text/plain": [
              "Pipeline(steps=[('drop_features',\n",
              "                 DropFeatures(features_to_drop=['EnclosedPorch',\n",
              "                                                'WoodDeckSF'])),\n",
              "                ('custom_encoder',\n",
              "                 MyCustomEncoder(dic={'BsmtExposure': {'Av': 3, 'Gd': 4,\n",
              "                                                       'Mn': 2, 'No': 1,\n",
              "                                                       'None': 0},\n",
              "                                      'BsmtFinType1': {'ALQ': 5, 'BLQ': 4,\n",
              "                                                       'GLQ': 6, 'LwQ': 2,\n",
              "                                                       'None': 0, 'Rec': 3,\n",
              "                                                       'Unf': 1},\n",
              "                                      'GarageFinish': {'Fin': 3, 'None': 0,\n",
              "                                                       'RFn': 2, 'Unf': 1},\n",
              "                                      'KitchenQual': {'Ex': 4, 'Fa': 1, 'Gd': 3,\n",
              "                                                      '...\n",
              "                                                     'LotFrontage',\n",
              "                                                     'MasVnrArea',\n",
              "                                                     'OpenPorchSF',\n",
              "                                                     'OverallCond',\n",
              "                                                     'OverallQual',\n",
              "                                                     'TotalBsmtSF', 'YearBuilt',\n",
              "                                                     'YearRemodAdd'])),\n",
              "                ('pt',\n",
              "                 PowerTransformer(variables=['BsmtUnfSF', 'OpenPorchSF'])),\n",
              "                ('log', LogTransformer(variables=['GrLivArea'])),\n",
              "                ('feat_scaling', StandardScaler()),\n",
              "                ('feat_selection',\n",
              "                 SelectFromModel(estimator=LinearRegression())),\n",
              "                ('model', LinearRegression())])"
            ]
          },
          "execution_count": 48,
          "metadata": {},
          "output_type": "execute_result"
        }
      ],
      "source": [
        "best_regressor_pipeline = grid_search_pipelines[best_model].best_estimator_\n",
        "best_regressor_pipeline"
      ]
    },
    {
      "cell_type": "markdown",
      "metadata": {},
      "source": [
        "## Assess feature importance\n",
        "### The LinearRegression model has no feature importance so we display only the best features."
      ]
    },
    {
      "cell_type": "code",
      "execution_count": 49,
      "metadata": {},
      "outputs": [
        {
          "data": {
            "text/plain": [
              "['GrLivArea', 'OverallQual', 'TotalBsmtSF', 'YearBuilt']"
            ]
          },
          "execution_count": 49,
          "metadata": {},
          "output_type": "execute_result"
        }
      ],
      "source": [
        "import matplotlib.pyplot as plt\n",
        "import seaborn as sns\n",
        "sns.set_style('whitegrid')\n",
        "\n",
        "# after data cleaning and feat engine, the feature may space changes\n",
        "data_cleaning_feat_eng_steps = 4 # how many data cleaning and feature engineering does your pipeline have?\n",
        "columns_after_data_cleaning_feat_eng = (Pipeline(best_regressor_pipeline.steps[:data_cleaning_feat_eng_steps])\n",
        "                                        .transform(X_train)\n",
        "                                        .columns)\n",
        "\n",
        "best_features = columns_after_data_cleaning_feat_eng[best_regressor_pipeline['feat_selection'].get_support()].to_list()\n",
        "best_features\n",
        "\n",
        "# # create DataFrame to display feature importance\n",
        "# df_feature_importance = (pd.DataFrame(data={\n",
        "#           'Feature': columns_after_data_cleaning_feat_eng[best_regressor_pipeline['feat_selection'].get_support()],\n",
        "#           'Importance': best_regressor_pipeline['model'].feature_importances_})\n",
        "#   .sort_values(by='Importance', ascending=False)\n",
        "#   )\n",
        "\n",
        "# # Most important features statement and plot\n",
        "# print(f\"* These are the {len(best_features)} most important features in descending order. \"\n",
        "#       f\"The model was trained on them: \\n{df_feature_importance['Feature'].to_list()}\")\n",
        "\n",
        "# df_feature_importance.plot(kind='bar',x='Feature',y='Importance')\n",
        "# plt.show()"
      ]
    },
    {
      "cell_type": "markdown",
      "metadata": {
        "id": "tV-W5nYyBPdk"
      },
      "source": [
        "### Evaluate Performance"
      ]
    },
    {
      "cell_type": "code",
      "execution_count": 50,
      "metadata": {
        "id": "EgBgrKJ5KFcX"
      },
      "outputs": [
        {
          "name": "stdout",
          "output_type": "stream",
          "text": [
            "Model Evaluation \n",
            "\n",
            "* Train Set\n",
            "R2 Score: 0.763\n",
            "Mean Absolute Error: 25988.031\n",
            "Mean Squared Error: 1459395082.939\n",
            "Root Mean Squared Error: 38202.03\n",
            "\n",
            "\n",
            "* Test Set\n",
            "R2 Score: 0.653\n",
            "Mean Absolute Error: 28882.384\n",
            "Mean Squared Error: 2395031816.926\n",
            "Root Mean Squared Error: 48939.062\n",
            "\n",
            "\n"
          ]
        },
        {
          "data": {
            "image/png": "[encoded data removed]",
            "text/plain": [
              "<Figure size 864x432 with 2 Axes>"
            ]
          },
          "metadata": {},
          "output_type": "display_data"
        }
      ],
      "source": [
        "regression_performance(X_train, y_train, X_test, y_test,best_regressor_pipeline)\n",
        "regression_evaluation_plots(X_train, y_train, X_test, y_test, best_regressor_pipeline)"
      ]
    },
    {
      "cell_type": "markdown",
      "metadata": {},
      "source": [
        "### The R2 score on the test set is 0.65. It does not pass the performance goal of 0.75."
      ]
    }
  ],
  "metadata": {
    "accelerator": "GPU",
    "colab": {
      "name": "Modeling and Evaluation - Predict Tenure.ipynb",
      "provenance": []
    },
    "kernelspec": {
      "display_name": "Python 3.8.13 64-bit ('3.8.13')",
      "language": "python",
      "name": "python3"
    },
    "language_info": {
      "codemirror_mode": {
        "name": "ipython",
        "version": 3
      },
      "file_extension": ".py",
      "mimetype": "text/x-python",
      "name": "python",
      "nbconvert_exporter": "python",
      "pygments_lexer": "ipython3",
      "version": "3.8.13"
    },
    "orig_nbformat": 2,
    "vscode": {
      "interpreter": {
        "hash": "110cc1dee26208153f2972f08a2ad52b6a56238dc66d48e87fb757ef2996db56"
      }
    }
  },
  "nbformat": 4,
  "nbformat_minor": 2
}
